{
 "cells": [
  {
   "cell_type": "markdown",
   "metadata": {},
   "source": [
    "# THE GOAL"
   ]
  },
  {
   "cell_type": "markdown",
   "metadata": {},
   "source": [
    "The goal is using the intel (data in the supplied files) from the police, Interpol, and undercover agents about Europe's criminals to identify the name behind which Moriarty is hiding. \n"
   ]
  },
  {
   "cell_type": "markdown",
   "metadata": {},
   "source": [
    "# SOLUTION"
   ]
  },
  {
   "cell_type": "markdown",
   "metadata": {},
   "source": [
    "# PART 1\n",
    "-Watson, just like our grand-grand-fathers we are again after Moriarty. \n",
    "\n",
    "We need to catch him... maybe it is her. All we know is \n",
    "that someone is masterminding unlawful activities and planning something bad. The Interpol agents, with the help of my boys, collected information that should provide us the clues to determine the name Moriarty is hiding behind, and arrest him.\n",
    "\n",
    "-The data is in the csv and text files and contains info on the criminal activity in the last year as well as high-profile and suspicious sales. They were sent over by  our collegues from the neighboring countries: France, Germany, Netherlands, and our own MI-6 in the United Kingdom.\n",
    "\n",
    "-The first task would be to combine the data into one table. I requested the information on the name, alias, and the location of the last known whereabouts of the criminals, as latitude and longitude, but since the data comes from all around the Europe the columns names may differ between files.\n",
    "\n",
    "-I am thinking that adding the country to the data might be helpful in our future analysis.\n",
    "\n",
    "-Lastly, from my correspondence with our undercover agents, all the activity seems to be happening around major financial centers. If those are not in the data, I suppose you can extract the city names using the latitude and logitude. And a map of course, unless your knowledge of Europe's geography is excepitonal. \n"
   ]
  },
  {
   "cell_type": "markdown",
   "metadata": {},
   "source": [
    "Data tasks outline:\n",
    "1. Read the data from the files (named 'criminals_' plus country name) into separate dataframes and add the country name as 'country' column.\n",
    "2. Identify the city around which the criminals operate and add it to the dataframe as 'city' column.\n",
    "3. Concatenate the dataframes into a single dataframe with the four original columns renamed to: [name, alias, latitude, longitude]\n",
    "4. Fill NAs in aliases with an empty string.\n"
   ]
  },
  {
   "cell_type": "code",
   "execution_count": null,
   "metadata": {},
   "outputs": [],
   "source": [
    "from datetime import datetime\n",
    "import random\n",
    "import pandas as pd\n",
    "import numpy as np"
   ]
  },
  {
   "cell_type": "code",
   "execution_count": null,
   "metadata": {},
   "outputs": [],
   "source": [
    "#sample one of the csvs\n",
    "country_ = \"France\"\n",
    "file_name = \"./data/criminals_{}.csv\".format(country_)\n",
    "df_country = pd.read_csv(file_name, index_col=False)\n",
    "print(df_country.columns)\n",
    "df_country.head(2)"
   ]
  },
  {
   "cell_type": "code",
   "execution_count": null,
   "metadata": {},
   "outputs": [],
   "source": [
    "#explore the dataframes: column names, shapes and combine into a single dataframe\n",
    "country_list = [\"United Kingdom\", \"Germany\", \"Netherlands\", \"France\"]\n",
    "dfs_dict = {}\n",
    "for country_ in country_list:\n",
    "    file_name = \"./data/criminals_{}.csv\".format(country_)\n",
    "    df = pd.read_csv(file_name, index_col=False)\n",
    "    print(list(df.columns), df.shape)\n",
    "    df.columns = [\"id\", \"name\", \"alias\", \"latitude\", \"longitude\"]\n",
    "    df[\"country\"] = country_\n",
    "    dfs_dict[country_] = df  # add data frame to the dict for a future union\n",
    "print(\"Len dfs_dict: {}\".format(len(dfs_dict)))\n",
    "\n",
    "# combine(concatenate/union) into a single dataframe\n",
    "df_criminals_combined = pd.concat(dfs_dict.values())\n",
    "print(\"Combined shape: {}\".format(df_criminals_combined.shape))\n",
    "df_criminals_combined.head(3)"
   ]
  },
  {
   "cell_type": "code",
   "execution_count": null,
   "metadata": {},
   "outputs": [],
   "source": [
    "# calculate mean latitude and longitude to identify the major financial centers (cities)\n",
    "# (copy and paste the lat, lon values into Google Maps)\n",
    "for country_ in country_list:\n",
    "    test_df = df_criminals_combined.loc[df_criminals_combined.country == country_]\n",
    "    print(\"Country: {}, (lat, lon): {}, {}\".format(country_, \n",
    "                                                   round(test_df.latitude.mean(), 4), \n",
    "                                                   round(test_df.longitude.mean(), 4)))\n",
    "    print(40 * \"*\")"
   ]
  },
  {
   "cell_type": "code",
   "execution_count": null,
   "metadata": {},
   "outputs": [],
   "source": [
    "country_list"
   ]
  },
  {
   "cell_type": "code",
   "execution_count": null,
   "metadata": {},
   "outputs": [],
   "source": [
    "# add the city name to the df\n",
    "\n",
    "#it can be done using a series of if/else statements, such as 'if country_ == 'France': city = 'Paris', etc. OR\n",
    "# using a dictionary as below:\n",
    "country_city_dict = {\"United Kingdom\": \"London\", \"Germany\": \"Frankfurt\", \"Netherlands\": \"Amsterdam\", \"France\": \"Paris\"}\n",
    "country_city_dict\n",
    "\n"
   ]
  },
  {
   "cell_type": "code",
   "execution_count": null,
   "metadata": {},
   "outputs": [],
   "source": [
    "# assign city to the country\n",
    "def assign_city(df, country_city_dict):\n",
    "    \"\"\"\"\"\"\n",
    "    df[\"city\"] = np.nan\n",
    "    for country, city in country_city_dict.items():\n",
    "        df.loc[df.country == country, \"city\"] = city\n",
    "        \n",
    "    return df\n",
    "\n",
    "df_with_city = assign_city(df_criminals_combined, country_city_dict)\n",
    "df_with_city.head(10)"
   ]
  },
  {
   "cell_type": "code",
   "execution_count": null,
   "metadata": {},
   "outputs": [],
   "source": [
    "# Fillna in alias.\n",
    "df_with_city = df_with_city.fillna({\"alias\": \"\"})\n",
    "print(\"Df shape: {}\".format(df_with_city.shape[0]))\n",
    "df_with_city.sort_values(\"name\").head(5)"
   ]
  },
  {
   "cell_type": "code",
   "execution_count": null,
   "metadata": {},
   "outputs": [],
   "source": []
  },
  {
   "cell_type": "markdown",
   "metadata": {},
   "source": [
    "# PART 2\n",
    "\n",
    "- Great, Watson! \n",
    "- Now we need to know what everyone of those supspects did wrong, that is the crime type, and desirably, how much they profited from it: Moriarty is not a small fish. \n",
    "\n",
    "- You'll need to add the crime type and the profit from the files to the table you already put together. Be mindful of the file types. I also believe that the separator in these file maybe different from the files you used previously.\n"
   ]
  },
  {
   "cell_type": "markdown",
   "metadata": {},
   "source": [
    "# Solution for PART 2"
   ]
  },
  {
   "cell_type": "code",
   "execution_count": null,
   "metadata": {},
   "outputs": [],
   "source": [
    "df = pd.read_csv(\"./data/crime_type_profit_France.txt\", index_col=False, sep=\" \")\n",
    "print(\"Columns: \", list(df.columns))"
   ]
  },
  {
   "cell_type": "code",
   "execution_count": null,
   "metadata": {},
   "outputs": [],
   "source": [
    "# union(concatenate) files for the latest crime dates\n",
    "\n",
    "country_list = [\"United Kingdom\", \"Germany\", \"Netherlands\", \"France\"]\n",
    "dfs_dict = {}\n",
    "for country_ in country_list:\n",
    "    file_name = \"./data/crime_type_profit_{}.txt\".format(country_)\n",
    "    df = pd.read_csv(file_name, index_col=False, sep=\" \")\n",
    "    print(list(df.columns), df.shape)\n",
    "    df[\"country\"] = country_\n",
    "    dfs_dict[country_] = df\n",
    "print(\"Len dfs_dict: {}\".format(len(dfs_dict)))\n",
    "\n",
    "#combine all dataframes into one\n",
    "df_crime_type_profit = pd.concat(dfs_dict.values())\n",
    "print(list(df_crime_type_profit.columns))\n",
    "\n",
    "df_crime_type_profit.head(10)"
   ]
  },
  {
   "cell_type": "code",
   "execution_count": null,
   "metadata": {},
   "outputs": [],
   "source": [
    "# drop duplicates \n",
    "df = df_with_city[[\"name\"]].drop_duplicates()\n",
    "df.shape[0]"
   ]
  },
  {
   "cell_type": "code",
   "execution_count": null,
   "metadata": {},
   "outputs": [],
   "source": [
    "# join main criminal info with crime type and profit\n",
    "df_city_profit = pd.merge(df_with_city, df_crime_type_profit, on=[\"name\",\"country\"], how=\"left\")\n",
    "print(\"Df shape: {}\".format(df_city_profit.shape[0]))\n",
    "print(df_city_profit.columns)\n",
    "df_city_profit.sort_values('profit', ascending = False).head(4)"
   ]
  },
  {
   "cell_type": "code",
   "execution_count": null,
   "metadata": {},
   "outputs": [],
   "source": [
    "#investigate crime types\n",
    "df_city_profit[\"crime_type\"].value_counts()"
   ]
  },
  {
   "cell_type": "markdown",
   "metadata": {},
   "source": [
    "Determine the crime type with most sales"
   ]
  },
  {
   "cell_type": "code",
   "execution_count": null,
   "metadata": {},
   "outputs": [],
   "source": [
    "df_by_profit = df_city_profit.groupby([\"crime_type\"])\\\n",
    "                        .agg({\"profit\": \"sum\"})\\\n",
    "                        .sort_values(\"profit\", ascending=False)\\\n",
    "                        .reset_index()\n",
    "df_by_profit"
   ]
  },
  {
   "cell_type": "code",
   "execution_count": null,
   "metadata": {},
   "outputs": [],
   "source": [
    "crime_type_big_sales = df_by_profit[\"crime_type\"][0]\n",
    "crime_type_big_sales"
   ]
  },
  {
   "cell_type": "markdown",
   "metadata": {},
   "source": [
    "Identify the country where the crime type with biggest sales happens"
   ]
  },
  {
   "cell_type": "code",
   "execution_count": null,
   "metadata": {},
   "outputs": [],
   "source": [
    "countries_crime_type_profit_df = df_city_profit.loc[df_city_profit[\"crime_type\"] == \"{}\".format(crime_type_big_sales)]\\\n",
    "                    .groupby([\"country\"])\\\n",
    "                    .agg({\"profit\": \"sum\"})\\\n",
    "                    .sort_values('profit', ascending=False)\\\n",
    "                    .reset_index()\n",
    "countries_crime_type_profit_df"
   ]
  },
  {
   "cell_type": "code",
   "execution_count": null,
   "metadata": {},
   "outputs": [],
   "source": [
    "top_country = countries_crime_type_profit_df.country.tolist()[0]\n",
    "top_country"
   ]
  },
  {
   "cell_type": "code",
   "execution_count": null,
   "metadata": {},
   "outputs": [],
   "source": [
    "df_crime_type_alias_null = df_city_profit.loc[(df_city_profit[\"country\"] == top_country)  & \n",
    "                                           (df_city_profit.alias == \"\") &\n",
    "                                             (df_city_profit[\"crime_type\"] == crime_type_big_sales)]\n",
    "df_crime_type_alias_null.sort_values(\"profit\", ascending=False).head(5)\n"
   ]
  },
  {
   "cell_type": "markdown",
   "metadata": {},
   "source": [
    "# PART 3\n",
    "-Watson, I think we got the last piece of the puzzle! \n",
    "\n",
    "I learned that Moriarty doesn't do his dealings on Sunday. \n",
    "\n",
    "That means that the top seller (in the country with the top sale in the last year) who didn't sell on a Sunday and who doesn't have an aliase will be him.\n",
    "\n",
    "All we have to do now is add the date information I just got and determine the weekday for that date. We already know the rest.\n",
    "\n",
    "And we'll send Lestrade right after him!"
   ]
  },
  {
   "cell_type": "code",
   "execution_count": null,
   "metadata": {},
   "outputs": [],
   "source": [
    "id_dates = pd.read_csv(\"./data/id_dates.csv\", index_col=False)\n",
    "print(\"id_dates shape: {}\".format(id_dates.shape[0]))\n",
    "id_dates.head(4)"
   ]
  },
  {
   "cell_type": "code",
   "execution_count": null,
   "metadata": {},
   "outputs": [],
   "source": [
    "df_selected_with_dates = pd.merge(df_crime_type_alias_null, id_dates, on=[\"id\", \"country\"], how=\"left\")\n",
    "print(df_selected_with_dates.shape[0])"
   ]
  },
  {
   "cell_type": "code",
   "execution_count": null,
   "metadata": {},
   "outputs": [],
   "source": [
    "df_selected_with_dates[\"date\"] = df_selected_with_dates[\"date\"].astype(\"datetime64\")\n",
    "df_selected_with_dates.dtypes"
   ]
  },
  {
   "cell_type": "code",
   "execution_count": null,
   "metadata": {},
   "outputs": [],
   "source": [
    "def weekday(date):\n",
    "    \"\"\" Generate day of the week based on date (as string or as datetime object)\"\"\"\n",
    "    \n",
    "    if isinstance(date, str):\n",
    "        from datetime import datetime\n",
    "        \n",
    "        date = datetime.strptime(date, \"%Y-%m-%d\")  # change the format if necessary\n",
    "        \n",
    "    return date.strftime(\"%A\")\n",
    "\n",
    "df_selected_with_dates[\"weekday\"]= df_selected_with_dates[\"date\"].apply(weekday)\n",
    "df_selected_with_dates.sort_values(\"profit\", ascending = False).head(4)"
   ]
  },
  {
   "cell_type": "code",
   "execution_count": null,
   "metadata": {},
   "outputs": [],
   "source": [
    "print(\"Shape of df selected: {}\".format(df_selected_with_dates.shape[0]))"
   ]
  },
  {
   "cell_type": "code",
   "execution_count": null,
   "metadata": {},
   "outputs": [],
   "source": [
    "df_selected_not_sunday = df_selected_with_dates.loc[df_selected_with_dates.weekday != \"Sunday\"]\n",
    "df_selected_not_sunday = df_selected_not_sunday.sort_values(\"profit\", ascending = False).reset_index()\n",
    "print(df_selected_not_sunday.shape[0])\n",
    "df_selected_not_sunday.head(5)"
   ]
  },
  {
   "cell_type": "code",
   "execution_count": null,
   "metadata": {},
   "outputs": [],
   "source": [
    "print(\"The name Moriarty is hiding behind: {}\".format(df_selected_not_sunday.name.iloc[0]))"
   ]
  },
  {
   "cell_type": "code",
   "execution_count": null,
   "metadata": {},
   "outputs": [],
   "source": []
  },
  {
   "cell_type": "code",
   "execution_count": null,
   "metadata": {},
   "outputs": [],
   "source": []
  }
 ],
 "metadata": {
  "kernelspec": {
   "display_name": "Python 3",
   "language": "python",
   "name": "python3"
  },
  "language_info": {
   "codemirror_mode": {
    "name": "ipython",
    "version": 3
   },
   "file_extension": ".py",
   "mimetype": "text/x-python",
   "name": "python",
   "nbconvert_exporter": "python",
   "pygments_lexer": "ipython3",
   "version": "3.6.8"
  }
 },
 "nbformat": 4,
 "nbformat_minor": 2
}
