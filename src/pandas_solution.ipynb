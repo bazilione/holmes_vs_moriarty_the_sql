{
 "cells": [
  {
   "cell_type": "markdown",
   "metadata": {},
   "source": [
    "# THE GOAL"
   ]
  },
  {
   "cell_type": "markdown",
   "metadata": {},
   "source": [
    "The goal is using the intel (data in the supplied files) from the police, Interpol, and undercover agents about Europe's criminals to identify the name behind which Moriarty is hiding. \n"
   ]
  },
  {
   "cell_type": "markdown",
   "metadata": {},
   "source": [
    "# SOLUTION"
   ]
  },
  {
   "cell_type": "markdown",
   "metadata": {},
   "source": [
    "# PART 1\n",
    "-Watson, just like our grand-grand-fathers we are again after Moriarty. \n",
    "\n",
    "We need to catch him... maybe it is her. All we know is \n",
    "that someone is masterminding unlawful activities and planning something bad. The Interpol agents, with the help of my boys, collected information that should provide us the clues to determine the name Moriarty is hiding behind, and arrest him.\n",
    "\n",
    "-The data is in the csv and text files and contains info on the criminal activity in the last year as well as high-profile and suspicious sales. They were sent over by  our collegues from the neighboring countries: France, Germany, Netherlands, and our own MI-6 in the United Kingdom.\n",
    "\n",
    "-The first task would be to combine the data into one table. I requested the information on the name, alias, and the location of the last known whereabouts of the criminals, as latitude and longitude, but since the data comes from all around the Europe the columns names may differ between files.\n",
    "\n",
    "-I am thinking that adding the country to the data might be helpful in our future analysis.\n",
    "\n",
    "-Lastly, from my correspondence with our undercover agents, all the activity seems to be happening around major financial centers. If those are not in the data, I suppose you can extract the city names using the latitude and logitude. And a map of course, unless your knowledge of Europe's geography is excepitonal. \n"
   ]
  },
  {
   "cell_type": "markdown",
   "metadata": {},
   "source": [
    "Data tasks outline:\n",
    "1. Read the data from the files (named 'criminals_' plus country name) into separate dataframes and add the country name as 'country' column.\n",
    "2. Identify the city around which the criminals operate and add it to the dataframe as 'city' column.\n",
    "3. Concatenate the dataframes into a single dataframe with the four original columns renamed to: [name, alias, latitude, longitude]\n",
    "4. Fill NAs in aliases with an empty string.\n"
   ]
  },
  {
   "cell_type": "code",
   "execution_count": 1,
   "metadata": {},
   "outputs": [],
   "source": [
    "from datetime import datetime\n",
    "import random\n",
    "import pandas as pd\n",
    "import numpy as np"
   ]
  },
  {
   "cell_type": "code",
   "execution_count": 2,
   "metadata": {},
   "outputs": [
    {
     "name": "stdout",
     "output_type": "stream",
     "text": [
      "Index(['id', 'nom', 'pseudonyme', 'latitude', 'longitude'], dtype='object')\n"
     ]
    },
    {
     "data": {
      "text/html": [
       "<div>\n",
       "<style scoped>\n",
       "    .dataframe tbody tr th:only-of-type {\n",
       "        vertical-align: middle;\n",
       "    }\n",
       "\n",
       "    .dataframe tbody tr th {\n",
       "        vertical-align: top;\n",
       "    }\n",
       "\n",
       "    .dataframe thead th {\n",
       "        text-align: right;\n",
       "    }\n",
       "</style>\n",
       "<table border=\"1\" class=\"dataframe\">\n",
       "  <thead>\n",
       "    <tr style=\"text-align: right;\">\n",
       "      <th></th>\n",
       "      <th>id</th>\n",
       "      <th>nom</th>\n",
       "      <th>pseudonyme</th>\n",
       "      <th>latitude</th>\n",
       "      <th>longitude</th>\n",
       "    </tr>\n",
       "  </thead>\n",
       "  <tbody>\n",
       "    <tr>\n",
       "      <th>0</th>\n",
       "      <td>0</td>\n",
       "      <td>Henriette Thomas du Peron</td>\n",
       "      <td>NaN</td>\n",
       "      <td>48.9072</td>\n",
       "      <td>2.2521</td>\n",
       "    </tr>\n",
       "    <tr>\n",
       "      <th>1</th>\n",
       "      <td>1</td>\n",
       "      <td>Marianne Francois</td>\n",
       "      <td>NaN</td>\n",
       "      <td>48.7158</td>\n",
       "      <td>2.1670</td>\n",
       "    </tr>\n",
       "  </tbody>\n",
       "</table>\n",
       "</div>"
      ],
      "text/plain": [
       "   id                        nom pseudonyme  latitude  longitude\n",
       "0   0  Henriette Thomas du Peron        NaN   48.9072     2.2521\n",
       "1   1          Marianne Francois        NaN   48.7158     2.1670"
      ]
     },
     "execution_count": 2,
     "metadata": {},
     "output_type": "execute_result"
    }
   ],
   "source": [
    "#sample one of the csvs\n",
    "country_ = \"France\"\n",
    "file_name = \"./data/criminals_{}.csv\".format(country_)\n",
    "df_country = pd.read_csv(file_name, index_col=False)\n",
    "print(df_country.columns)\n",
    "df_country.head(2)"
   ]
  },
  {
   "cell_type": "code",
   "execution_count": 3,
   "metadata": {},
   "outputs": [
    {
     "name": "stdout",
     "output_type": "stream",
     "text": [
      "['id', 'name', 'alias', 'latitude', 'longitude'] (306, 5)\n",
      "['id', 'benennen', 'aliasnamen', 'breitengrad', 'länge'] (264, 5)\n",
      "['id', 'benennen', 'aliasnamen', 'breitengrad', 'länge'] (250, 5)\n",
      "['id', 'nom', 'pseudonyme', 'latitude', 'longitude'] (349, 5)\n",
      "Len dfs_dict: 4\n",
      "Combined shape: (1169, 6)\n"
     ]
    },
    {
     "data": {
      "text/html": [
       "<div>\n",
       "<style scoped>\n",
       "    .dataframe tbody tr th:only-of-type {\n",
       "        vertical-align: middle;\n",
       "    }\n",
       "\n",
       "    .dataframe tbody tr th {\n",
       "        vertical-align: top;\n",
       "    }\n",
       "\n",
       "    .dataframe thead th {\n",
       "        text-align: right;\n",
       "    }\n",
       "</style>\n",
       "<table border=\"1\" class=\"dataframe\">\n",
       "  <thead>\n",
       "    <tr style=\"text-align: right;\">\n",
       "      <th></th>\n",
       "      <th>id</th>\n",
       "      <th>name</th>\n",
       "      <th>alias</th>\n",
       "      <th>latitude</th>\n",
       "      <th>longitude</th>\n",
       "      <th>country</th>\n",
       "    </tr>\n",
       "  </thead>\n",
       "  <tbody>\n",
       "    <tr>\n",
       "      <th>0</th>\n",
       "      <td>0</td>\n",
       "      <td>Ms. Diane Barnett</td>\n",
       "      <td>NaN</td>\n",
       "      <td>51.3327</td>\n",
       "      <td>-0.0328</td>\n",
       "      <td>United Kingdom</td>\n",
       "    </tr>\n",
       "    <tr>\n",
       "      <th>1</th>\n",
       "      <td>1</td>\n",
       "      <td>Elizabeth McDonald</td>\n",
       "      <td>NaN</td>\n",
       "      <td>51.3732</td>\n",
       "      <td>-0.0396</td>\n",
       "      <td>United Kingdom</td>\n",
       "    </tr>\n",
       "    <tr>\n",
       "      <th>2</th>\n",
       "      <td>2</td>\n",
       "      <td>Jacqueline Martin-Winter</td>\n",
       "      <td>NaN</td>\n",
       "      <td>51.3536</td>\n",
       "      <td>-0.2230</td>\n",
       "      <td>United Kingdom</td>\n",
       "    </tr>\n",
       "  </tbody>\n",
       "</table>\n",
       "</div>"
      ],
      "text/plain": [
       "   id                      name alias  latitude  longitude         country\n",
       "0   0         Ms. Diane Barnett   NaN   51.3327    -0.0328  United Kingdom\n",
       "1   1        Elizabeth McDonald   NaN   51.3732    -0.0396  United Kingdom\n",
       "2   2  Jacqueline Martin-Winter   NaN   51.3536    -0.2230  United Kingdom"
      ]
     },
     "execution_count": 3,
     "metadata": {},
     "output_type": "execute_result"
    }
   ],
   "source": [
    "#explore the dataframes: column names, shapes and combine into a single dataframe\n",
    "country_list = [\"United Kingdom\", \"Germany\", \"Netherlands\", \"France\"]\n",
    "dfs_dict = {}\n",
    "for country_ in country_list:\n",
    "    file_name = \"./data/criminals_{}.csv\".format(country_)\n",
    "    df = pd.read_csv(file_name, index_col=False)\n",
    "    print(list(df.columns), df.shape)\n",
    "    df.columns = [\"id\", \"name\", \"alias\", \"latitude\", \"longitude\"]\n",
    "    df[\"country\"] = country_\n",
    "    dfs_dict[country_] = df  # add data frame to the dict for a future union\n",
    "print(\"Len dfs_dict: {}\".format(len(dfs_dict)))\n",
    "\n",
    "# combine(concatenate/union) into a single dataframe\n",
    "df_criminals_combined = pd.concat(dfs_dict.values())\n",
    "print(\"Combined shape: {}\".format(df_criminals_combined.shape))\n",
    "df_criminals_combined.head(3)"
   ]
  },
  {
   "cell_type": "code",
   "execution_count": 4,
   "metadata": {},
   "outputs": [
    {
     "name": "stdout",
     "output_type": "stream",
     "text": [
      "Country: United Kingdom, (lat, lon): 51.5046, -0.124\n",
      "****************************************\n",
      "Country: Germany, (lat, lon): 50.0971, 8.679\n",
      "****************************************\n",
      "Country: Netherlands, (lat, lon): 52.3753, 4.901\n",
      "****************************************\n",
      "Country: France, (lat, lon): 48.8606, 2.3646\n",
      "****************************************\n"
     ]
    }
   ],
   "source": [
    "# calculate mean latitude and longitude to identify the major financial centers (cities)\n",
    "# (copy and paste the lat, lon values into Google Maps)\n",
    "for country_ in country_list:\n",
    "    test_df = df_criminals_combined.loc[df_criminals_combined.country == country_]\n",
    "    print(\"Country: {}, (lat, lon): {}, {}\".format(country_, \n",
    "                                                   round(test_df.latitude.mean(), 4), \n",
    "                                                   round(test_df.longitude.mean(), 4)))\n",
    "    print(40 * \"*\")"
   ]
  },
  {
   "cell_type": "code",
   "execution_count": 5,
   "metadata": {},
   "outputs": [
    {
     "data": {
      "text/plain": [
       "['United Kingdom', 'Germany', 'Netherlands', 'France']"
      ]
     },
     "execution_count": 5,
     "metadata": {},
     "output_type": "execute_result"
    }
   ],
   "source": [
    "country_list"
   ]
  },
  {
   "cell_type": "code",
   "execution_count": 6,
   "metadata": {},
   "outputs": [
    {
     "data": {
      "text/plain": [
       "{'United Kingdom': 'London',\n",
       " 'Germany': 'Frankfurt',\n",
       " 'Netherlands': 'Amsterdam',\n",
       " 'France': 'Paris'}"
      ]
     },
     "execution_count": 6,
     "metadata": {},
     "output_type": "execute_result"
    }
   ],
   "source": [
    "# add the city name to the df\n",
    "\n",
    "#it can be done using a series of if/else statements, such as 'if country_ == 'France': city = 'Paris', etc. OR\n",
    "# using a dictionary as below:\n",
    "country_city_dict = {\"United Kingdom\": \"London\", \"Germany\": \"Frankfurt\", \"Netherlands\": \"Amsterdam\", \"France\": \"Paris\"}\n",
    "country_city_dict\n",
    "\n"
   ]
  },
  {
   "cell_type": "code",
   "execution_count": 7,
   "metadata": {},
   "outputs": [
    {
     "data": {
      "text/html": [
       "<div>\n",
       "<style scoped>\n",
       "    .dataframe tbody tr th:only-of-type {\n",
       "        vertical-align: middle;\n",
       "    }\n",
       "\n",
       "    .dataframe tbody tr th {\n",
       "        vertical-align: top;\n",
       "    }\n",
       "\n",
       "    .dataframe thead th {\n",
       "        text-align: right;\n",
       "    }\n",
       "</style>\n",
       "<table border=\"1\" class=\"dataframe\">\n",
       "  <thead>\n",
       "    <tr style=\"text-align: right;\">\n",
       "      <th></th>\n",
       "      <th>id</th>\n",
       "      <th>name</th>\n",
       "      <th>alias</th>\n",
       "      <th>latitude</th>\n",
       "      <th>longitude</th>\n",
       "      <th>country</th>\n",
       "      <th>city</th>\n",
       "    </tr>\n",
       "  </thead>\n",
       "  <tbody>\n",
       "    <tr>\n",
       "      <th>0</th>\n",
       "      <td>0</td>\n",
       "      <td>Ms. Diane Barnett</td>\n",
       "      <td>NaN</td>\n",
       "      <td>51.3327</td>\n",
       "      <td>-0.0328</td>\n",
       "      <td>United Kingdom</td>\n",
       "      <td>London</td>\n",
       "    </tr>\n",
       "    <tr>\n",
       "      <th>1</th>\n",
       "      <td>1</td>\n",
       "      <td>Elizabeth McDonald</td>\n",
       "      <td>NaN</td>\n",
       "      <td>51.3732</td>\n",
       "      <td>-0.0396</td>\n",
       "      <td>United Kingdom</td>\n",
       "      <td>London</td>\n",
       "    </tr>\n",
       "    <tr>\n",
       "      <th>2</th>\n",
       "      <td>2</td>\n",
       "      <td>Jacqueline Martin-Winter</td>\n",
       "      <td>NaN</td>\n",
       "      <td>51.3536</td>\n",
       "      <td>-0.2230</td>\n",
       "      <td>United Kingdom</td>\n",
       "      <td>London</td>\n",
       "    </tr>\n",
       "    <tr>\n",
       "      <th>3</th>\n",
       "      <td>3</td>\n",
       "      <td>Roger Farmer</td>\n",
       "      <td>NaN</td>\n",
       "      <td>51.2891</td>\n",
       "      <td>-0.2080</td>\n",
       "      <td>United Kingdom</td>\n",
       "      <td>London</td>\n",
       "    </tr>\n",
       "    <tr>\n",
       "      <th>4</th>\n",
       "      <td>4</td>\n",
       "      <td>Mrs. Georgina Harrison</td>\n",
       "      <td>NaN</td>\n",
       "      <td>51.6004</td>\n",
       "      <td>0.0054</td>\n",
       "      <td>United Kingdom</td>\n",
       "      <td>London</td>\n",
       "    </tr>\n",
       "    <tr>\n",
       "      <th>5</th>\n",
       "      <td>5</td>\n",
       "      <td>Peter Stevens</td>\n",
       "      <td>NaN</td>\n",
       "      <td>51.6441</td>\n",
       "      <td>0.0188</td>\n",
       "      <td>United Kingdom</td>\n",
       "      <td>London</td>\n",
       "    </tr>\n",
       "    <tr>\n",
       "      <th>6</th>\n",
       "      <td>6</td>\n",
       "      <td>Georgina Bell</td>\n",
       "      <td>NaN</td>\n",
       "      <td>51.5304</td>\n",
       "      <td>-0.0927</td>\n",
       "      <td>United Kingdom</td>\n",
       "      <td>London</td>\n",
       "    </tr>\n",
       "    <tr>\n",
       "      <th>7</th>\n",
       "      <td>7</td>\n",
       "      <td>Miss Lesley Sullivan</td>\n",
       "      <td>NaN</td>\n",
       "      <td>51.7303</td>\n",
       "      <td>-0.2607</td>\n",
       "      <td>United Kingdom</td>\n",
       "      <td>London</td>\n",
       "    </tr>\n",
       "    <tr>\n",
       "      <th>8</th>\n",
       "      <td>8</td>\n",
       "      <td>Keith Kelly</td>\n",
       "      <td>Happy</td>\n",
       "      <td>51.4393</td>\n",
       "      <td>-0.1421</td>\n",
       "      <td>United Kingdom</td>\n",
       "      <td>London</td>\n",
       "    </tr>\n",
       "    <tr>\n",
       "      <th>9</th>\n",
       "      <td>9</td>\n",
       "      <td>Shane Bailey</td>\n",
       "      <td>NaN</td>\n",
       "      <td>51.2735</td>\n",
       "      <td>-0.3407</td>\n",
       "      <td>United Kingdom</td>\n",
       "      <td>London</td>\n",
       "    </tr>\n",
       "  </tbody>\n",
       "</table>\n",
       "</div>"
      ],
      "text/plain": [
       "   id                      name  alias  latitude  longitude         country  \\\n",
       "0   0         Ms. Diane Barnett    NaN   51.3327    -0.0328  United Kingdom   \n",
       "1   1        Elizabeth McDonald    NaN   51.3732    -0.0396  United Kingdom   \n",
       "2   2  Jacqueline Martin-Winter    NaN   51.3536    -0.2230  United Kingdom   \n",
       "3   3              Roger Farmer    NaN   51.2891    -0.2080  United Kingdom   \n",
       "4   4    Mrs. Georgina Harrison    NaN   51.6004     0.0054  United Kingdom   \n",
       "5   5             Peter Stevens    NaN   51.6441     0.0188  United Kingdom   \n",
       "6   6             Georgina Bell    NaN   51.5304    -0.0927  United Kingdom   \n",
       "7   7      Miss Lesley Sullivan    NaN   51.7303    -0.2607  United Kingdom   \n",
       "8   8               Keith Kelly  Happy   51.4393    -0.1421  United Kingdom   \n",
       "9   9              Shane Bailey    NaN   51.2735    -0.3407  United Kingdom   \n",
       "\n",
       "     city  \n",
       "0  London  \n",
       "1  London  \n",
       "2  London  \n",
       "3  London  \n",
       "4  London  \n",
       "5  London  \n",
       "6  London  \n",
       "7  London  \n",
       "8  London  \n",
       "9  London  "
      ]
     },
     "execution_count": 7,
     "metadata": {},
     "output_type": "execute_result"
    }
   ],
   "source": [
    "# assign city to the country\n",
    "def assign_city(df, country_city_dict):\n",
    "    \"\"\"\"\"\"\n",
    "    df[\"city\"] = np.nan\n",
    "    for country, city in country_city_dict.items():\n",
    "        df.loc[df.country == country, \"city\"] = city\n",
    "        \n",
    "    return df\n",
    "\n",
    "df_with_city = assign_city(df_criminals_combined, country_city_dict)\n",
    "df_with_city.head(10)"
   ]
  },
  {
   "cell_type": "code",
   "execution_count": 8,
   "metadata": {},
   "outputs": [
    {
     "name": "stdout",
     "output_type": "stream",
     "text": [
      "Df shape: 1169\n"
     ]
    },
    {
     "data": {
      "text/html": [
       "<div>\n",
       "<style scoped>\n",
       "    .dataframe tbody tr th:only-of-type {\n",
       "        vertical-align: middle;\n",
       "    }\n",
       "\n",
       "    .dataframe tbody tr th {\n",
       "        vertical-align: top;\n",
       "    }\n",
       "\n",
       "    .dataframe thead th {\n",
       "        text-align: right;\n",
       "    }\n",
       "</style>\n",
       "<table border=\"1\" class=\"dataframe\">\n",
       "  <thead>\n",
       "    <tr style=\"text-align: right;\">\n",
       "      <th></th>\n",
       "      <th>id</th>\n",
       "      <th>name</th>\n",
       "      <th>alias</th>\n",
       "      <th>latitude</th>\n",
       "      <th>longitude</th>\n",
       "      <th>country</th>\n",
       "      <th>city</th>\n",
       "    </tr>\n",
       "  </thead>\n",
       "  <tbody>\n",
       "    <tr>\n",
       "      <th>247</th>\n",
       "      <td>247</td>\n",
       "      <td>Abbie Bond</td>\n",
       "      <td></td>\n",
       "      <td>51.7279</td>\n",
       "      <td>-0.2436</td>\n",
       "      <td>United Kingdom</td>\n",
       "      <td>London</td>\n",
       "    </tr>\n",
       "    <tr>\n",
       "      <th>63</th>\n",
       "      <td>63</td>\n",
       "      <td>Abel Greij</td>\n",
       "      <td></td>\n",
       "      <td>52.6030</td>\n",
       "      <td>5.0600</td>\n",
       "      <td>Netherlands</td>\n",
       "      <td>Amsterdam</td>\n",
       "    </tr>\n",
       "    <tr>\n",
       "      <th>150</th>\n",
       "      <td>150</td>\n",
       "      <td>Adam van de Pol-Konings</td>\n",
       "      <td></td>\n",
       "      <td>52.5674</td>\n",
       "      <td>4.8518</td>\n",
       "      <td>Netherlands</td>\n",
       "      <td>Amsterdam</td>\n",
       "    </tr>\n",
       "    <tr>\n",
       "      <th>28</th>\n",
       "      <td>28</td>\n",
       "      <td>Adelgunde Henschel B.Eng.</td>\n",
       "      <td></td>\n",
       "      <td>50.2047</td>\n",
       "      <td>8.7456</td>\n",
       "      <td>Germany</td>\n",
       "      <td>Frankfurt</td>\n",
       "    </tr>\n",
       "    <tr>\n",
       "      <th>261</th>\n",
       "      <td>261</td>\n",
       "      <td>Adrian West</td>\n",
       "      <td></td>\n",
       "      <td>51.4574</td>\n",
       "      <td>0.0411</td>\n",
       "      <td>United Kingdom</td>\n",
       "      <td>London</td>\n",
       "    </tr>\n",
       "  </tbody>\n",
       "</table>\n",
       "</div>"
      ],
      "text/plain": [
       "      id                       name alias  latitude  longitude  \\\n",
       "247  247                 Abbie Bond         51.7279    -0.2436   \n",
       "63    63                 Abel Greij         52.6030     5.0600   \n",
       "150  150    Adam van de Pol-Konings         52.5674     4.8518   \n",
       "28    28  Adelgunde Henschel B.Eng.         50.2047     8.7456   \n",
       "261  261                Adrian West         51.4574     0.0411   \n",
       "\n",
       "            country       city  \n",
       "247  United Kingdom     London  \n",
       "63      Netherlands  Amsterdam  \n",
       "150     Netherlands  Amsterdam  \n",
       "28          Germany  Frankfurt  \n",
       "261  United Kingdom     London  "
      ]
     },
     "execution_count": 8,
     "metadata": {},
     "output_type": "execute_result"
    }
   ],
   "source": [
    "# Fillna in alias.\n",
    "df_with_city = df_with_city.fillna({\"alias\": \"\"})\n",
    "print(\"Df shape: {}\".format(df_with_city.shape[0]))\n",
    "df_with_city.sort_values(\"name\").head(5)"
   ]
  },
  {
   "cell_type": "code",
   "execution_count": null,
   "metadata": {},
   "outputs": [],
   "source": []
  },
  {
   "cell_type": "markdown",
   "metadata": {},
   "source": [
    "# PART 2\n",
    "\n",
    "- Great, Watson! \n",
    "- Now we need to know what everyone of those supspects did wrong, that is the crime type, and desirably, how much they profited from it: Moriarty is not a small fish. \n",
    "\n",
    "- You'll need to add the crime type and the profit from the files to the table you already put together. Be mindful of the file types. I also believe that the separator in these file maybe different from the files you used previously.\n"
   ]
  },
  {
   "cell_type": "markdown",
   "metadata": {},
   "source": [
    "# Solution for PART 2"
   ]
  },
  {
   "cell_type": "code",
   "execution_count": 9,
   "metadata": {},
   "outputs": [
    {
     "name": "stdout",
     "output_type": "stream",
     "text": [
      "Columns:  ['name', 'crime_type', 'profit']\n"
     ]
    }
   ],
   "source": [
    "df = pd.read_csv(\"./data/crime_type_profit_France.txt\", index_col=False, sep=\" \")\n",
    "print(\"Columns: \", list(df.columns))"
   ]
  },
  {
   "cell_type": "code",
   "execution_count": 10,
   "metadata": {},
   "outputs": [
    {
     "name": "stdout",
     "output_type": "stream",
     "text": [
      "['name', 'crime_type', 'profit'] (306, 3)\n",
      "['name', 'crime_type', 'profit'] (264, 3)\n",
      "['name', 'crime_type', 'profit'] (250, 3)\n",
      "['name', 'crime_type', 'profit'] (349, 3)\n",
      "Len dfs_dict: 4\n",
      "['name', 'crime_type', 'profit', 'country']\n"
     ]
    },
    {
     "data": {
      "text/html": [
       "<div>\n",
       "<style scoped>\n",
       "    .dataframe tbody tr th:only-of-type {\n",
       "        vertical-align: middle;\n",
       "    }\n",
       "\n",
       "    .dataframe tbody tr th {\n",
       "        vertical-align: top;\n",
       "    }\n",
       "\n",
       "    .dataframe thead th {\n",
       "        text-align: right;\n",
       "    }\n",
       "</style>\n",
       "<table border=\"1\" class=\"dataframe\">\n",
       "  <thead>\n",
       "    <tr style=\"text-align: right;\">\n",
       "      <th></th>\n",
       "      <th>name</th>\n",
       "      <th>crime_type</th>\n",
       "      <th>profit</th>\n",
       "      <th>country</th>\n",
       "    </tr>\n",
       "  </thead>\n",
       "  <tbody>\n",
       "    <tr>\n",
       "      <th>0</th>\n",
       "      <td>Ms. Diane Barnett</td>\n",
       "      <td>theft</td>\n",
       "      <td>284</td>\n",
       "      <td>United Kingdom</td>\n",
       "    </tr>\n",
       "    <tr>\n",
       "      <th>1</th>\n",
       "      <td>Elizabeth McDonald</td>\n",
       "      <td>theft</td>\n",
       "      <td>59</td>\n",
       "      <td>United Kingdom</td>\n",
       "    </tr>\n",
       "    <tr>\n",
       "      <th>2</th>\n",
       "      <td>Jacqueline Martin-Winter</td>\n",
       "      <td>forgery</td>\n",
       "      <td>150</td>\n",
       "      <td>United Kingdom</td>\n",
       "    </tr>\n",
       "    <tr>\n",
       "      <th>3</th>\n",
       "      <td>Roger Farmer</td>\n",
       "      <td>theft</td>\n",
       "      <td>378</td>\n",
       "      <td>United Kingdom</td>\n",
       "    </tr>\n",
       "    <tr>\n",
       "      <th>4</th>\n",
       "      <td>Mrs. Georgina Harrison</td>\n",
       "      <td>theft</td>\n",
       "      <td>55</td>\n",
       "      <td>United Kingdom</td>\n",
       "    </tr>\n",
       "    <tr>\n",
       "      <th>5</th>\n",
       "      <td>Peter Stevens</td>\n",
       "      <td>robbery</td>\n",
       "      <td>868</td>\n",
       "      <td>United Kingdom</td>\n",
       "    </tr>\n",
       "    <tr>\n",
       "      <th>6</th>\n",
       "      <td>Georgina Bell</td>\n",
       "      <td>theft</td>\n",
       "      <td>365</td>\n",
       "      <td>United Kingdom</td>\n",
       "    </tr>\n",
       "    <tr>\n",
       "      <th>7</th>\n",
       "      <td>Miss Lesley Sullivan</td>\n",
       "      <td>forgery</td>\n",
       "      <td>320</td>\n",
       "      <td>United Kingdom</td>\n",
       "    </tr>\n",
       "    <tr>\n",
       "      <th>8</th>\n",
       "      <td>Keith Kelly</td>\n",
       "      <td>theft</td>\n",
       "      <td>399</td>\n",
       "      <td>United Kingdom</td>\n",
       "    </tr>\n",
       "    <tr>\n",
       "      <th>9</th>\n",
       "      <td>Shane Bailey</td>\n",
       "      <td>forgery</td>\n",
       "      <td>495</td>\n",
       "      <td>United Kingdom</td>\n",
       "    </tr>\n",
       "  </tbody>\n",
       "</table>\n",
       "</div>"
      ],
      "text/plain": [
       "                       name crime_type  profit         country\n",
       "0         Ms. Diane Barnett      theft     284  United Kingdom\n",
       "1        Elizabeth McDonald      theft      59  United Kingdom\n",
       "2  Jacqueline Martin-Winter    forgery     150  United Kingdom\n",
       "3              Roger Farmer      theft     378  United Kingdom\n",
       "4    Mrs. Georgina Harrison      theft      55  United Kingdom\n",
       "5             Peter Stevens    robbery     868  United Kingdom\n",
       "6             Georgina Bell      theft     365  United Kingdom\n",
       "7      Miss Lesley Sullivan    forgery     320  United Kingdom\n",
       "8               Keith Kelly      theft     399  United Kingdom\n",
       "9              Shane Bailey    forgery     495  United Kingdom"
      ]
     },
     "execution_count": 10,
     "metadata": {},
     "output_type": "execute_result"
    }
   ],
   "source": [
    "# union(concatenate) files for the latest crime dates\n",
    "\n",
    "country_list = [\"United Kingdom\", \"Germany\", \"Netherlands\", \"France\"]\n",
    "dfs_dict = {}\n",
    "for country_ in country_list:\n",
    "    file_name = \"./data/crime_type_profit_{}.txt\".format(country_)\n",
    "    df = pd.read_csv(file_name, index_col=False, sep=\" \")\n",
    "    print(list(df.columns), df.shape)\n",
    "    df[\"country\"] = country_\n",
    "    dfs_dict[country_] = df\n",
    "print(\"Len dfs_dict: {}\".format(len(dfs_dict)))\n",
    "\n",
    "#combine all dataframes into one\n",
    "df_crime_type_profit = pd.concat(dfs_dict.values())\n",
    "print(list(df_crime_type_profit.columns))\n",
    "\n",
    "df_crime_type_profit.head(10)"
   ]
  },
  {
   "cell_type": "code",
   "execution_count": 11,
   "metadata": {},
   "outputs": [
    {
     "data": {
      "text/plain": [
       "1169"
      ]
     },
     "execution_count": 11,
     "metadata": {},
     "output_type": "execute_result"
    }
   ],
   "source": [
    "# drop duplicates \n",
    "df = df_with_city[[\"name\"]].drop_duplicates()\n",
    "df.shape[0]"
   ]
  },
  {
   "cell_type": "code",
   "execution_count": 12,
   "metadata": {},
   "outputs": [
    {
     "name": "stdout",
     "output_type": "stream",
     "text": [
      "Df shape: 1169\n",
      "Index(['id', 'name', 'alias', 'latitude', 'longitude', 'country', 'city',\n",
      "       'crime_type', 'profit'],\n",
      "      dtype='object')\n"
     ]
    },
    {
     "data": {
      "text/html": [
       "<div>\n",
       "<style scoped>\n",
       "    .dataframe tbody tr th:only-of-type {\n",
       "        vertical-align: middle;\n",
       "    }\n",
       "\n",
       "    .dataframe tbody tr th {\n",
       "        vertical-align: top;\n",
       "    }\n",
       "\n",
       "    .dataframe thead th {\n",
       "        text-align: right;\n",
       "    }\n",
       "</style>\n",
       "<table border=\"1\" class=\"dataframe\">\n",
       "  <thead>\n",
       "    <tr style=\"text-align: right;\">\n",
       "      <th></th>\n",
       "      <th>id</th>\n",
       "      <th>name</th>\n",
       "      <th>alias</th>\n",
       "      <th>latitude</th>\n",
       "      <th>longitude</th>\n",
       "      <th>country</th>\n",
       "      <th>city</th>\n",
       "      <th>crime_type</th>\n",
       "      <th>profit</th>\n",
       "    </tr>\n",
       "  </thead>\n",
       "  <tbody>\n",
       "    <tr>\n",
       "      <th>1168</th>\n",
       "      <td>302</td>\n",
       "      <td>Odette Renard du Michaud</td>\n",
       "      <td></td>\n",
       "      <td>48.7832</td>\n",
       "      <td>2.2590</td>\n",
       "      <td>France</td>\n",
       "      <td>Paris</td>\n",
       "      <td>weapons sale</td>\n",
       "      <td>498000</td>\n",
       "    </tr>\n",
       "    <tr>\n",
       "      <th>58</th>\n",
       "      <td>58</td>\n",
       "      <td>Anthony Mitchell</td>\n",
       "      <td></td>\n",
       "      <td>51.4210</td>\n",
       "      <td>0.1152</td>\n",
       "      <td>United Kingdom</td>\n",
       "      <td>London</td>\n",
       "      <td>weapons sale</td>\n",
       "      <td>495000</td>\n",
       "    </tr>\n",
       "    <tr>\n",
       "      <th>1126</th>\n",
       "      <td>307</td>\n",
       "      <td>Gabriel Le Schneider</td>\n",
       "      <td></td>\n",
       "      <td>48.8161</td>\n",
       "      <td>2.3073</td>\n",
       "      <td>France</td>\n",
       "      <td>Paris</td>\n",
       "      <td>weapons sale</td>\n",
       "      <td>493000</td>\n",
       "    </tr>\n",
       "    <tr>\n",
       "      <th>62</th>\n",
       "      <td>62</td>\n",
       "      <td>Malcolm Cox-Mason</td>\n",
       "      <td>Handlebars</td>\n",
       "      <td>51.5569</td>\n",
       "      <td>0.0905</td>\n",
       "      <td>United Kingdom</td>\n",
       "      <td>London</td>\n",
       "      <td>weapons sale</td>\n",
       "      <td>491000</td>\n",
       "    </tr>\n",
       "  </tbody>\n",
       "</table>\n",
       "</div>"
      ],
      "text/plain": [
       "       id                      name       alias  latitude  longitude  \\\n",
       "1168  302  Odette Renard du Michaud               48.7832     2.2590   \n",
       "58     58          Anthony Mitchell               51.4210     0.1152   \n",
       "1126  307      Gabriel Le Schneider               48.8161     2.3073   \n",
       "62     62         Malcolm Cox-Mason  Handlebars   51.5569     0.0905   \n",
       "\n",
       "             country    city    crime_type  profit  \n",
       "1168          France   Paris  weapons sale  498000  \n",
       "58    United Kingdom  London  weapons sale  495000  \n",
       "1126          France   Paris  weapons sale  493000  \n",
       "62    United Kingdom  London  weapons sale  491000  "
      ]
     },
     "execution_count": 12,
     "metadata": {},
     "output_type": "execute_result"
    }
   ],
   "source": [
    "# join main criminal info with crime type and profit\n",
    "df_city_profit = pd.merge(df_with_city, df_crime_type_profit, on=[\"name\",\"country\"], how=\"left\")\n",
    "print(\"Df shape: {}\".format(df_city_profit.shape[0]))\n",
    "print(df_city_profit.columns)\n",
    "df_city_profit.sort_values('profit', ascending = False).head(4)"
   ]
  },
  {
   "cell_type": "code",
   "execution_count": 13,
   "metadata": {},
   "outputs": [
    {
     "data": {
      "text/plain": [
       "theft            467\n",
       "pickpocketing    237\n",
       "robbery          198\n",
       "forgery          116\n",
       "drug sale         93\n",
       "weapons sale      58\n",
       "Name: crime_type, dtype: int64"
      ]
     },
     "execution_count": 13,
     "metadata": {},
     "output_type": "execute_result"
    }
   ],
   "source": [
    "#investigate crime types\n",
    "df_city_profit[\"crime_type\"].value_counts()"
   ]
  },
  {
   "cell_type": "markdown",
   "metadata": {},
   "source": [
    "Determine the crime type with most sales"
   ]
  },
  {
   "cell_type": "code",
   "execution_count": 14,
   "metadata": {},
   "outputs": [
    {
     "data": {
      "text/html": [
       "<div>\n",
       "<style scoped>\n",
       "    .dataframe tbody tr th:only-of-type {\n",
       "        vertical-align: middle;\n",
       "    }\n",
       "\n",
       "    .dataframe tbody tr th {\n",
       "        vertical-align: top;\n",
       "    }\n",
       "\n",
       "    .dataframe thead th {\n",
       "        text-align: right;\n",
       "    }\n",
       "</style>\n",
       "<table border=\"1\" class=\"dataframe\">\n",
       "  <thead>\n",
       "    <tr style=\"text-align: right;\">\n",
       "      <th></th>\n",
       "      <th>crime_type</th>\n",
       "      <th>profit</th>\n",
       "    </tr>\n",
       "  </thead>\n",
       "  <tbody>\n",
       "    <tr>\n",
       "      <th>0</th>\n",
       "      <td>weapons sale</td>\n",
       "      <td>14942000</td>\n",
       "    </tr>\n",
       "    <tr>\n",
       "      <th>1</th>\n",
       "      <td>drug sale</td>\n",
       "      <td>2214270</td>\n",
       "    </tr>\n",
       "    <tr>\n",
       "      <th>2</th>\n",
       "      <td>robbery</td>\n",
       "      <td>96582</td>\n",
       "    </tr>\n",
       "    <tr>\n",
       "      <th>3</th>\n",
       "      <td>theft</td>\n",
       "      <td>95702</td>\n",
       "    </tr>\n",
       "    <tr>\n",
       "      <th>4</th>\n",
       "      <td>forgery</td>\n",
       "      <td>37863</td>\n",
       "    </tr>\n",
       "    <tr>\n",
       "      <th>5</th>\n",
       "      <td>pickpocketing</td>\n",
       "      <td>6359</td>\n",
       "    </tr>\n",
       "  </tbody>\n",
       "</table>\n",
       "</div>"
      ],
      "text/plain": [
       "      crime_type    profit\n",
       "0   weapons sale  14942000\n",
       "1      drug sale   2214270\n",
       "2        robbery     96582\n",
       "3          theft     95702\n",
       "4        forgery     37863\n",
       "5  pickpocketing      6359"
      ]
     },
     "execution_count": 14,
     "metadata": {},
     "output_type": "execute_result"
    }
   ],
   "source": [
    "df_by_profit = df_city_profit.groupby([\"crime_type\"])\\\n",
    "                        .agg({\"profit\": \"sum\"})\\\n",
    "                        .sort_values(\"profit\", ascending=False)\\\n",
    "                        .reset_index()\n",
    "df_by_profit"
   ]
  },
  {
   "cell_type": "code",
   "execution_count": 15,
   "metadata": {},
   "outputs": [
    {
     "data": {
      "text/plain": [
       "'weapons sale'"
      ]
     },
     "execution_count": 15,
     "metadata": {},
     "output_type": "execute_result"
    }
   ],
   "source": [
    "crime_type_big_sales = df_by_profit[\"crime_type\"][0]\n",
    "crime_type_big_sales"
   ]
  },
  {
   "cell_type": "markdown",
   "metadata": {},
   "source": [
    "Identify the country where the crime type with biggest sales happens"
   ]
  },
  {
   "cell_type": "code",
   "execution_count": 16,
   "metadata": {},
   "outputs": [
    {
     "data": {
      "text/html": [
       "<div>\n",
       "<style scoped>\n",
       "    .dataframe tbody tr th:only-of-type {\n",
       "        vertical-align: middle;\n",
       "    }\n",
       "\n",
       "    .dataframe tbody tr th {\n",
       "        vertical-align: top;\n",
       "    }\n",
       "\n",
       "    .dataframe thead th {\n",
       "        text-align: right;\n",
       "    }\n",
       "</style>\n",
       "<table border=\"1\" class=\"dataframe\">\n",
       "  <thead>\n",
       "    <tr style=\"text-align: right;\">\n",
       "      <th></th>\n",
       "      <th>country</th>\n",
       "      <th>profit</th>\n",
       "    </tr>\n",
       "  </thead>\n",
       "  <tbody>\n",
       "    <tr>\n",
       "      <th>0</th>\n",
       "      <td>France</td>\n",
       "      <td>6312000</td>\n",
       "    </tr>\n",
       "    <tr>\n",
       "      <th>1</th>\n",
       "      <td>United Kingdom</td>\n",
       "      <td>3914000</td>\n",
       "    </tr>\n",
       "    <tr>\n",
       "      <th>2</th>\n",
       "      <td>Germany</td>\n",
       "      <td>2365000</td>\n",
       "    </tr>\n",
       "    <tr>\n",
       "      <th>3</th>\n",
       "      <td>Netherlands</td>\n",
       "      <td>2351000</td>\n",
       "    </tr>\n",
       "  </tbody>\n",
       "</table>\n",
       "</div>"
      ],
      "text/plain": [
       "          country   profit\n",
       "0          France  6312000\n",
       "1  United Kingdom  3914000\n",
       "2         Germany  2365000\n",
       "3     Netherlands  2351000"
      ]
     },
     "execution_count": 16,
     "metadata": {},
     "output_type": "execute_result"
    }
   ],
   "source": [
    "countries_crime_type_profit_df = df_city_profit.loc[df_city_profit[\"crime_type\"] == \"{}\".format(crime_type_big_sales)]\\\n",
    "                    .groupby([\"country\"])\\\n",
    "                    .agg({\"profit\": \"sum\"})\\\n",
    "                    .sort_values('profit', ascending=False)\\\n",
    "                    .reset_index()\n",
    "countries_crime_type_profit_df"
   ]
  },
  {
   "cell_type": "code",
   "execution_count": 17,
   "metadata": {},
   "outputs": [
    {
     "data": {
      "text/plain": [
       "'France'"
      ]
     },
     "execution_count": 17,
     "metadata": {},
     "output_type": "execute_result"
    }
   ],
   "source": [
    "top_country = countries_crime_type_profit_df.country.tolist()[0]\n",
    "top_country"
   ]
  },
  {
   "cell_type": "code",
   "execution_count": 18,
   "metadata": {},
   "outputs": [
    {
     "data": {
      "text/html": [
       "<div>\n",
       "<style scoped>\n",
       "    .dataframe tbody tr th:only-of-type {\n",
       "        vertical-align: middle;\n",
       "    }\n",
       "\n",
       "    .dataframe tbody tr th {\n",
       "        vertical-align: top;\n",
       "    }\n",
       "\n",
       "    .dataframe thead th {\n",
       "        text-align: right;\n",
       "    }\n",
       "</style>\n",
       "<table border=\"1\" class=\"dataframe\">\n",
       "  <thead>\n",
       "    <tr style=\"text-align: right;\">\n",
       "      <th></th>\n",
       "      <th>id</th>\n",
       "      <th>name</th>\n",
       "      <th>alias</th>\n",
       "      <th>latitude</th>\n",
       "      <th>longitude</th>\n",
       "      <th>country</th>\n",
       "      <th>city</th>\n",
       "      <th>crime_type</th>\n",
       "      <th>profit</th>\n",
       "    </tr>\n",
       "  </thead>\n",
       "  <tbody>\n",
       "    <tr>\n",
       "      <th>1168</th>\n",
       "      <td>302</td>\n",
       "      <td>Odette Renard du Michaud</td>\n",
       "      <td></td>\n",
       "      <td>48.7832</td>\n",
       "      <td>2.2590</td>\n",
       "      <td>France</td>\n",
       "      <td>Paris</td>\n",
       "      <td>weapons sale</td>\n",
       "      <td>498000</td>\n",
       "    </tr>\n",
       "    <tr>\n",
       "      <th>1126</th>\n",
       "      <td>307</td>\n",
       "      <td>Gabriel Le Schneider</td>\n",
       "      <td></td>\n",
       "      <td>48.8161</td>\n",
       "      <td>2.3073</td>\n",
       "      <td>France</td>\n",
       "      <td>Paris</td>\n",
       "      <td>weapons sale</td>\n",
       "      <td>493000</td>\n",
       "    </tr>\n",
       "    <tr>\n",
       "      <th>991</th>\n",
       "      <td>171</td>\n",
       "      <td>Constance du Laurent</td>\n",
       "      <td></td>\n",
       "      <td>48.8806</td>\n",
       "      <td>2.2083</td>\n",
       "      <td>France</td>\n",
       "      <td>Paris</td>\n",
       "      <td>weapons sale</td>\n",
       "      <td>453000</td>\n",
       "    </tr>\n",
       "    <tr>\n",
       "      <th>1020</th>\n",
       "      <td>200</td>\n",
       "      <td>Valentine Meunier</td>\n",
       "      <td></td>\n",
       "      <td>48.8220</td>\n",
       "      <td>2.5017</td>\n",
       "      <td>France</td>\n",
       "      <td>Paris</td>\n",
       "      <td>weapons sale</td>\n",
       "      <td>435000</td>\n",
       "    </tr>\n",
       "    <tr>\n",
       "      <th>839</th>\n",
       "      <td>19</td>\n",
       "      <td>René Tessier du Lagarde</td>\n",
       "      <td></td>\n",
       "      <td>48.6504</td>\n",
       "      <td>2.3543</td>\n",
       "      <td>France</td>\n",
       "      <td>Paris</td>\n",
       "      <td>weapons sale</td>\n",
       "      <td>423000</td>\n",
       "    </tr>\n",
       "  </tbody>\n",
       "</table>\n",
       "</div>"
      ],
      "text/plain": [
       "       id                      name alias  latitude  longitude country   city  \\\n",
       "1168  302  Odette Renard du Michaud         48.7832     2.2590  France  Paris   \n",
       "1126  307      Gabriel Le Schneider         48.8161     2.3073  France  Paris   \n",
       "991   171      Constance du Laurent         48.8806     2.2083  France  Paris   \n",
       "1020  200         Valentine Meunier         48.8220     2.5017  France  Paris   \n",
       "839    19   René Tessier du Lagarde         48.6504     2.3543  France  Paris   \n",
       "\n",
       "        crime_type  profit  \n",
       "1168  weapons sale  498000  \n",
       "1126  weapons sale  493000  \n",
       "991   weapons sale  453000  \n",
       "1020  weapons sale  435000  \n",
       "839   weapons sale  423000  "
      ]
     },
     "execution_count": 18,
     "metadata": {},
     "output_type": "execute_result"
    }
   ],
   "source": [
    "df_crime_type_alias_null = df_city_profit.loc[(df_city_profit[\"country\"] == top_country)  & \n",
    "                                           (df_city_profit.alias == \"\") &\n",
    "                                             (df_city_profit[\"crime_type\"] == crime_type_big_sales)]\n",
    "df_crime_type_alias_null.sort_values(\"profit\", ascending=False).head(5)\n"
   ]
  },
  {
   "cell_type": "markdown",
   "metadata": {},
   "source": [
    "# PART 3\n",
    "-Watson, I think we got the last piece of the puzzle! \n",
    "\n",
    "I learned that Moriarty doesn't do his dealings on Sunday. \n",
    "\n",
    "That means that the top seller (in the country with the top sale in the last year) who didn't sell on a Sunday and who doesn't have an aliase will be him.\n",
    "\n",
    "All we have to do now is add the date information I just got and determine the weekday for that date. We already know the rest.\n",
    "\n",
    "And we'll send Lestrade right after him!"
   ]
  },
  {
   "cell_type": "code",
   "execution_count": 19,
   "metadata": {},
   "outputs": [
    {
     "name": "stdout",
     "output_type": "stream",
     "text": [
      "id_dates shape: 1169\n"
     ]
    },
    {
     "data": {
      "text/html": [
       "<div>\n",
       "<style scoped>\n",
       "    .dataframe tbody tr th:only-of-type {\n",
       "        vertical-align: middle;\n",
       "    }\n",
       "\n",
       "    .dataframe tbody tr th {\n",
       "        vertical-align: top;\n",
       "    }\n",
       "\n",
       "    .dataframe thead th {\n",
       "        text-align: right;\n",
       "    }\n",
       "</style>\n",
       "<table border=\"1\" class=\"dataframe\">\n",
       "  <thead>\n",
       "    <tr style=\"text-align: right;\">\n",
       "      <th></th>\n",
       "      <th>id</th>\n",
       "      <th>date</th>\n",
       "      <th>country</th>\n",
       "    </tr>\n",
       "  </thead>\n",
       "  <tbody>\n",
       "    <tr>\n",
       "      <th>0</th>\n",
       "      <td>0</td>\n",
       "      <td>2020-06-15</td>\n",
       "      <td>France</td>\n",
       "    </tr>\n",
       "    <tr>\n",
       "      <th>1</th>\n",
       "      <td>1</td>\n",
       "      <td>2020-01-06</td>\n",
       "      <td>France</td>\n",
       "    </tr>\n",
       "    <tr>\n",
       "      <th>2</th>\n",
       "      <td>2</td>\n",
       "      <td>2020-08-03</td>\n",
       "      <td>France</td>\n",
       "    </tr>\n",
       "    <tr>\n",
       "      <th>3</th>\n",
       "      <td>3</td>\n",
       "      <td>2020-06-19</td>\n",
       "      <td>France</td>\n",
       "    </tr>\n",
       "  </tbody>\n",
       "</table>\n",
       "</div>"
      ],
      "text/plain": [
       "   id        date country\n",
       "0   0  2020-06-15  France\n",
       "1   1  2020-01-06  France\n",
       "2   2  2020-08-03  France\n",
       "3   3  2020-06-19  France"
      ]
     },
     "execution_count": 19,
     "metadata": {},
     "output_type": "execute_result"
    }
   ],
   "source": [
    "id_dates = pd.read_csv(\"./data/id_dates.csv\", index_col=False)\n",
    "print(\"id_dates shape: {}\".format(id_dates.shape[0]))\n",
    "id_dates.head(4)"
   ]
  },
  {
   "cell_type": "code",
   "execution_count": 20,
   "metadata": {},
   "outputs": [
    {
     "name": "stdout",
     "output_type": "stream",
     "text": [
      "20\n"
     ]
    }
   ],
   "source": [
    "df_selected_with_dates = pd.merge(df_crime_type_alias_null, id_dates, on=[\"id\", \"country\"], how=\"left\")\n",
    "print(df_selected_with_dates.shape[0])"
   ]
  },
  {
   "cell_type": "code",
   "execution_count": 21,
   "metadata": {},
   "outputs": [
    {
     "data": {
      "text/plain": [
       "id                     int64\n",
       "name                  object\n",
       "alias                 object\n",
       "latitude             float64\n",
       "longitude            float64\n",
       "country               object\n",
       "city                  object\n",
       "crime_type            object\n",
       "profit                 int64\n",
       "date          datetime64[ns]\n",
       "dtype: object"
      ]
     },
     "execution_count": 21,
     "metadata": {},
     "output_type": "execute_result"
    }
   ],
   "source": [
    "df_selected_with_dates[\"date\"] = df_selected_with_dates[\"date\"].astype(\"datetime64\")\n",
    "df_selected_with_dates.dtypes"
   ]
  },
  {
   "cell_type": "code",
   "execution_count": 22,
   "metadata": {},
   "outputs": [
    {
     "data": {
      "text/html": [
       "<div>\n",
       "<style scoped>\n",
       "    .dataframe tbody tr th:only-of-type {\n",
       "        vertical-align: middle;\n",
       "    }\n",
       "\n",
       "    .dataframe tbody tr th {\n",
       "        vertical-align: top;\n",
       "    }\n",
       "\n",
       "    .dataframe thead th {\n",
       "        text-align: right;\n",
       "    }\n",
       "</style>\n",
       "<table border=\"1\" class=\"dataframe\">\n",
       "  <thead>\n",
       "    <tr style=\"text-align: right;\">\n",
       "      <th></th>\n",
       "      <th>id</th>\n",
       "      <th>name</th>\n",
       "      <th>alias</th>\n",
       "      <th>latitude</th>\n",
       "      <th>longitude</th>\n",
       "      <th>country</th>\n",
       "      <th>city</th>\n",
       "      <th>crime_type</th>\n",
       "      <th>profit</th>\n",
       "      <th>date</th>\n",
       "      <th>weekday</th>\n",
       "    </tr>\n",
       "  </thead>\n",
       "  <tbody>\n",
       "    <tr>\n",
       "      <th>19</th>\n",
       "      <td>302</td>\n",
       "      <td>Odette Renard du Michaud</td>\n",
       "      <td></td>\n",
       "      <td>48.7832</td>\n",
       "      <td>2.2590</td>\n",
       "      <td>France</td>\n",
       "      <td>Paris</td>\n",
       "      <td>weapons sale</td>\n",
       "      <td>498000</td>\n",
       "      <td>2020-01-29</td>\n",
       "      <td>Wednesday</td>\n",
       "    </tr>\n",
       "    <tr>\n",
       "      <th>17</th>\n",
       "      <td>307</td>\n",
       "      <td>Gabriel Le Schneider</td>\n",
       "      <td></td>\n",
       "      <td>48.8161</td>\n",
       "      <td>2.3073</td>\n",
       "      <td>France</td>\n",
       "      <td>Paris</td>\n",
       "      <td>weapons sale</td>\n",
       "      <td>493000</td>\n",
       "      <td>2020-07-05</td>\n",
       "      <td>Sunday</td>\n",
       "    </tr>\n",
       "    <tr>\n",
       "      <th>12</th>\n",
       "      <td>171</td>\n",
       "      <td>Constance du Laurent</td>\n",
       "      <td></td>\n",
       "      <td>48.8806</td>\n",
       "      <td>2.2083</td>\n",
       "      <td>France</td>\n",
       "      <td>Paris</td>\n",
       "      <td>weapons sale</td>\n",
       "      <td>453000</td>\n",
       "      <td>2020-06-22</td>\n",
       "      <td>Monday</td>\n",
       "    </tr>\n",
       "    <tr>\n",
       "      <th>13</th>\n",
       "      <td>200</td>\n",
       "      <td>Valentine Meunier</td>\n",
       "      <td></td>\n",
       "      <td>48.8220</td>\n",
       "      <td>2.5017</td>\n",
       "      <td>France</td>\n",
       "      <td>Paris</td>\n",
       "      <td>weapons sale</td>\n",
       "      <td>435000</td>\n",
       "      <td>2020-05-03</td>\n",
       "      <td>Sunday</td>\n",
       "    </tr>\n",
       "  </tbody>\n",
       "</table>\n",
       "</div>"
      ],
      "text/plain": [
       "     id                      name alias  latitude  longitude country   city  \\\n",
       "19  302  Odette Renard du Michaud         48.7832     2.2590  France  Paris   \n",
       "17  307      Gabriel Le Schneider         48.8161     2.3073  France  Paris   \n",
       "12  171      Constance du Laurent         48.8806     2.2083  France  Paris   \n",
       "13  200         Valentine Meunier         48.8220     2.5017  France  Paris   \n",
       "\n",
       "      crime_type  profit       date    weekday  \n",
       "19  weapons sale  498000 2020-01-29  Wednesday  \n",
       "17  weapons sale  493000 2020-07-05     Sunday  \n",
       "12  weapons sale  453000 2020-06-22     Monday  \n",
       "13  weapons sale  435000 2020-05-03     Sunday  "
      ]
     },
     "execution_count": 22,
     "metadata": {},
     "output_type": "execute_result"
    }
   ],
   "source": [
    "def weekday(date):\n",
    "    \"\"\" Generate day of the week based on date (as string or as datetime object)\"\"\"\n",
    "    \n",
    "    if isinstance(date, str):\n",
    "        from datetime import datetime\n",
    "        \n",
    "        date = datetime.strptime(date, \"%Y-%m-%d\")  # change the format if necessary\n",
    "        \n",
    "    return date.strftime(\"%A\")\n",
    "\n",
    "df_selected_with_dates[\"weekday\"]= df_selected_with_dates[\"date\"].apply(weekday)\n",
    "df_selected_with_dates.sort_values(\"profit\", ascending = False).head(4)"
   ]
  },
  {
   "cell_type": "code",
   "execution_count": 23,
   "metadata": {},
   "outputs": [
    {
     "name": "stdout",
     "output_type": "stream",
     "text": [
      "Shape of df selected: 20\n"
     ]
    }
   ],
   "source": [
    "print(\"Shape of df selected: {}\".format(df_selected_with_dates.shape[0]))"
   ]
  },
  {
   "cell_type": "code",
   "execution_count": 24,
   "metadata": {},
   "outputs": [
    {
     "name": "stdout",
     "output_type": "stream",
     "text": [
      "14\n"
     ]
    },
    {
     "data": {
      "text/html": [
       "<div>\n",
       "<style scoped>\n",
       "    .dataframe tbody tr th:only-of-type {\n",
       "        vertical-align: middle;\n",
       "    }\n",
       "\n",
       "    .dataframe tbody tr th {\n",
       "        vertical-align: top;\n",
       "    }\n",
       "\n",
       "    .dataframe thead th {\n",
       "        text-align: right;\n",
       "    }\n",
       "</style>\n",
       "<table border=\"1\" class=\"dataframe\">\n",
       "  <thead>\n",
       "    <tr style=\"text-align: right;\">\n",
       "      <th></th>\n",
       "      <th>index</th>\n",
       "      <th>id</th>\n",
       "      <th>name</th>\n",
       "      <th>alias</th>\n",
       "      <th>latitude</th>\n",
       "      <th>longitude</th>\n",
       "      <th>country</th>\n",
       "      <th>city</th>\n",
       "      <th>crime_type</th>\n",
       "      <th>profit</th>\n",
       "      <th>date</th>\n",
       "      <th>weekday</th>\n",
       "    </tr>\n",
       "  </thead>\n",
       "  <tbody>\n",
       "    <tr>\n",
       "      <th>0</th>\n",
       "      <td>19</td>\n",
       "      <td>302</td>\n",
       "      <td>Odette Renard du Michaud</td>\n",
       "      <td></td>\n",
       "      <td>48.7832</td>\n",
       "      <td>2.2590</td>\n",
       "      <td>France</td>\n",
       "      <td>Paris</td>\n",
       "      <td>weapons sale</td>\n",
       "      <td>498000</td>\n",
       "      <td>2020-01-29</td>\n",
       "      <td>Wednesday</td>\n",
       "    </tr>\n",
       "    <tr>\n",
       "      <th>1</th>\n",
       "      <td>12</td>\n",
       "      <td>171</td>\n",
       "      <td>Constance du Laurent</td>\n",
       "      <td></td>\n",
       "      <td>48.8806</td>\n",
       "      <td>2.2083</td>\n",
       "      <td>France</td>\n",
       "      <td>Paris</td>\n",
       "      <td>weapons sale</td>\n",
       "      <td>453000</td>\n",
       "      <td>2020-06-22</td>\n",
       "      <td>Monday</td>\n",
       "    </tr>\n",
       "    <tr>\n",
       "      <th>2</th>\n",
       "      <td>0</td>\n",
       "      <td>19</td>\n",
       "      <td>René Tessier du Lagarde</td>\n",
       "      <td></td>\n",
       "      <td>48.6504</td>\n",
       "      <td>2.3543</td>\n",
       "      <td>France</td>\n",
       "      <td>Paris</td>\n",
       "      <td>weapons sale</td>\n",
       "      <td>423000</td>\n",
       "      <td>2020-07-04</td>\n",
       "      <td>Saturday</td>\n",
       "    </tr>\n",
       "    <tr>\n",
       "      <th>3</th>\n",
       "      <td>18</td>\n",
       "      <td>343</td>\n",
       "      <td>Zoé Guibert de la Levy</td>\n",
       "      <td></td>\n",
       "      <td>48.6893</td>\n",
       "      <td>2.3624</td>\n",
       "      <td>France</td>\n",
       "      <td>Paris</td>\n",
       "      <td>weapons sale</td>\n",
       "      <td>364000</td>\n",
       "      <td>2020-04-06</td>\n",
       "      <td>Monday</td>\n",
       "    </tr>\n",
       "    <tr>\n",
       "      <th>4</th>\n",
       "      <td>9</td>\n",
       "      <td>135</td>\n",
       "      <td>Denis Lesage</td>\n",
       "      <td></td>\n",
       "      <td>48.6713</td>\n",
       "      <td>2.5139</td>\n",
       "      <td>France</td>\n",
       "      <td>Paris</td>\n",
       "      <td>weapons sale</td>\n",
       "      <td>328000</td>\n",
       "      <td>2020-06-01</td>\n",
       "      <td>Monday</td>\n",
       "    </tr>\n",
       "  </tbody>\n",
       "</table>\n",
       "</div>"
      ],
      "text/plain": [
       "   index   id                      name alias  latitude  longitude country  \\\n",
       "0     19  302  Odette Renard du Michaud         48.7832     2.2590  France   \n",
       "1     12  171      Constance du Laurent         48.8806     2.2083  France   \n",
       "2      0   19   René Tessier du Lagarde         48.6504     2.3543  France   \n",
       "3     18  343    Zoé Guibert de la Levy         48.6893     2.3624  France   \n",
       "4      9  135              Denis Lesage         48.6713     2.5139  France   \n",
       "\n",
       "    city    crime_type  profit       date    weekday  \n",
       "0  Paris  weapons sale  498000 2020-01-29  Wednesday  \n",
       "1  Paris  weapons sale  453000 2020-06-22     Monday  \n",
       "2  Paris  weapons sale  423000 2020-07-04   Saturday  \n",
       "3  Paris  weapons sale  364000 2020-04-06     Monday  \n",
       "4  Paris  weapons sale  328000 2020-06-01     Monday  "
      ]
     },
     "execution_count": 24,
     "metadata": {},
     "output_type": "execute_result"
    }
   ],
   "source": [
    "df_selected_not_sunday = df_selected_with_dates.loc[df_selected_with_dates.weekday != \"Sunday\"]\n",
    "df_selected_not_sunday = df_selected_not_sunday.sort_values(\"profit\", ascending = False).reset_index()\n",
    "print(df_selected_not_sunday.shape[0])\n",
    "df_selected_not_sunday.head(5)"
   ]
  },
  {
   "cell_type": "code",
   "execution_count": 25,
   "metadata": {},
   "outputs": [
    {
     "name": "stdout",
     "output_type": "stream",
     "text": [
      "The name Moriarty is hiding behind: Odette Renard du Michaud\n"
     ]
    }
   ],
   "source": [
    "print(\"The name Moriarty is hiding behind: {}\".format(df_selected_not_sunday.name.iloc[0]))"
   ]
  },
  {
   "cell_type": "code",
   "execution_count": null,
   "metadata": {},
   "outputs": [],
   "source": []
  },
  {
   "cell_type": "code",
   "execution_count": null,
   "metadata": {},
   "outputs": [],
   "source": []
  }
 ],
 "metadata": {
  "kernelspec": {
   "display_name": "Python 3",
   "language": "python",
   "name": "python3"
  },
  "language_info": {
   "codemirror_mode": {
    "name": "ipython",
    "version": 3
   },
   "file_extension": ".py",
   "mimetype": "text/x-python",
   "name": "python",
   "nbconvert_exporter": "python",
   "pygments_lexer": "ipython3",
   "version": "3.6.8"
  }
 },
 "nbformat": 4,
 "nbformat_minor": 2
}
