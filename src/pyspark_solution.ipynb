{
 "cells": [
  {
   "cell_type": "markdown",
   "metadata": {},
   "source": [
    "# THE GOAL"
   ]
  },
  {
   "cell_type": "markdown",
   "metadata": {},
   "source": [
    "The goal is to take Watson's role and using the intel (the data in the supplied files) from the police, Interpol, and undercover agents about Europe's criminals to identify the name behind which Moriarty is hiding. \n"
   ]
  },
  {
   "cell_type": "markdown",
   "metadata": {},
   "source": [
    "# SOLUTION"
   ]
  },
  {
   "cell_type": "markdown",
   "metadata": {},
   "source": [
    "# PART 1\n",
    "-Watson, just like our grand-grand-fathers we are again after Moriarty. \n",
    "\n",
    "We need to catch him. H-mmm... I need to be careful here - maybe it is not him, maybe it is her. All we know is \n",
    "that someone is masterminding unlawful activities and planning something bad. The Interpol agents, with the help of my boys, collected information that should provide us the clues to determine the name Moriarty's is hiding brhind and arrest him.\n",
    "\n",
    "-I have a number of .csv and .txt files about criminal activity and high-profile suspicious sales that were sent over from our neighbors: France, Germany, Netherlands, and our own MI-6 in the United Kingdom.\n",
    "\n",
    "So, the first task would be to combine the data into one table. I requested info on the name, alias, and the location of the last known whereabouts, as latitude and longitude, but since the data comes from all around the Europe they might have named the columns differently.\n",
    "\n",
    "I am thinking that adding the country to the data might be helpful in our future analysis.\n",
    "\n",
    "Lastly, from my correspondence with our undercover agents, all the activity seems to be happening around major financial centers. If the city names are not in the data, I suppose you can extract it based on the latitude and logitude. Mmmm... And a map of course, unless your knowledge of Europe's geography is excepitonal. \n",
    "\n"
   ]
  },
  {
   "cell_type": "markdown",
   "metadata": {},
   "source": [
    "\n",
    "\n",
    "Text:\n",
    "Tasks:\n",
    "1. Read in data from the files into a separate dataframe and add the country name ('country' column).\n",
    "2. Identify the city around which the criminals operate. Add it to the dataframe ('city' column).\n",
    "3. Concatenate dfs into a single dataframe with the four original columns renamed to: [name, alias, latitude, longitude]\n",
    "4. Fill NAs in aliases with an empty string.\n"
   ]
  },
  {
   "cell_type": "code",
   "execution_count": 1,
   "metadata": {},
   "outputs": [],
   "source": [
    "from pyspark.sql import SparkSession\n",
    "\n",
    "spark = SparkSession \\\n",
    "    .builder \\\n",
    "    .appName(\"Python Spark SQL basic example\") \\\n",
    "    .config(\"spark.some.config.option\", \"some-value\") \\\n",
    "    .getOrCreate()"
   ]
  },
  {
   "cell_type": "code",
   "execution_count": 2,
   "metadata": {},
   "outputs": [
    {
     "name": "stdout",
     "output_type": "stream",
     "text": [
      "crime_type_profit_France.txt          criminals_Germany.csv\r\n",
      "crime_type_profit_Germany.txt         criminals_Netherlands.csv\r\n",
      "crime_type_profit_Netherlands.txt     criminals_United Kingdom.csv\r\n",
      "crime_type_profit_United Kingdom.txt  id_dates.csv\r\n",
      "criminals_France.csv\r\n"
     ]
    }
   ],
   "source": [
    "%ls data"
   ]
  },
  {
   "cell_type": "code",
   "execution_count": 3,
   "metadata": {},
   "outputs": [
    {
     "name": "stdout",
     "output_type": "stream",
     "text": [
      "['id', 'nom', 'pseudonyme', 'latitude', 'longitude']\n",
      "+---+-------------------------+----------+--------+---------+\n",
      "|id |nom                      |pseudonyme|latitude|longitude|\n",
      "+---+-------------------------+----------+--------+---------+\n",
      "|0  |Henriette Thomas du Peron|null      |48.9072 |2.2521   |\n",
      "|1  |Marianne Francois        |null      |48.7158 |2.167    |\n",
      "|2  |Chantal Laurent          |null      |48.8507 |2.3281   |\n",
      "|3  |Dorothée Coulon          |null      |49.0233 |2.5613   |\n",
      "|4  |Astrid Meunier           |null      |49.0044 |2.547    |\n",
      "+---+-------------------------+----------+--------+---------+\n",
      "only showing top 5 rows\n",
      "\n"
     ]
    }
   ],
   "source": [
    "#sample one of the csvs\n",
    "country_ = \"France\"\n",
    "file_name = \"./data/criminals_{}.csv\".format(country_)\n",
    "df_country = spark.read.csv(file_name, header=True, inferSchema=True)\n",
    "print(df_country.columns)\n",
    "df_country.show(5, False)"
   ]
  },
  {
   "cell_type": "code",
   "execution_count": 4,
   "metadata": {},
   "outputs": [],
   "source": [
    "import pyspark.sql.functions as F"
   ]
  },
  {
   "cell_type": "code",
   "execution_count": 5,
   "metadata": {},
   "outputs": [
    {
     "name": "stdout",
     "output_type": "stream",
     "text": [
      "Country: United Kingdom, rows: 306\n",
      "Country: Germany, rows: 264\n",
      "Country: Netherlands, rows: 250\n",
      "Country: France, rows: 349\n",
      "Len dfs_dict: 4\n"
     ]
    }
   ],
   "source": [
    "def rename_cols(df, new_col_names):\n",
    "    \"\"\"\"\"\"\n",
    "    for col, new_col in zip(df.columns, new_col_names):\n",
    "        df = df.withColumnRenamed(col, new_col)\n",
    "        \n",
    "    return df\n",
    "\n",
    "#explore the dataframes: column names, shapes and combine into a single dataframe\n",
    "country_list = [\"United Kingdom\", \"Germany\", \"Netherlands\", \"France\"]\n",
    "dfs_dict = {}\n",
    "for country_ in country_list:\n",
    "    file_name = \"./data/criminals_{}.csv\".format(country_)\n",
    "    df = spark.read.csv(file_name, header=True, inferSchema=True)\n",
    "    print(\"Country: {}, rows: {}\".format(country_, df.count()))\n",
    "    new_col_names = [\"id\", \"name\", \"alias\", \"latitude\", \"longitude\"]\n",
    "    df = rename_cols(df, new_col_names)\n",
    "    df = df.withColumn('country', F.lit(country_))\n",
    "    dfs_dict[country_] = df  # add data frame to the dict for a future union\n",
    "print(\"Len dfs_dict: {}\".format(len(dfs_dict)))\n",
    "\n"
   ]
  },
  {
   "cell_type": "code",
   "execution_count": 6,
   "metadata": {},
   "outputs": [
    {
     "data": {
      "text/plain": [
       "4"
      ]
     },
     "execution_count": 6,
     "metadata": {},
     "output_type": "execute_result"
    }
   ],
   "source": [
    "len(list(dfs_dict.values()))"
   ]
  },
  {
   "cell_type": "code",
   "execution_count": 7,
   "metadata": {},
   "outputs": [
    {
     "name": "stdout",
     "output_type": "stream",
     "text": [
      "Rows in combined df: 1169\n"
     ]
    }
   ],
   "source": [
    "# from https://datascience.stackexchange.com/questions/11356/merging-multiple-data-frames-row-wise-in-pyspark\n",
    "from functools import reduce  # For Python 3.x\n",
    "from pyspark.sql import DataFrame\n",
    "\n",
    "def unionAll(dfs):\n",
    "    return reduce(DataFrame.unionAll, dfs)\n",
    "\n",
    "df_criminals_combined = unionAll(list(dfs_dict.values()))\n",
    "print(\"Rows in combined df: {}\".format(df_criminals_combined.count()))"
   ]
  },
  {
   "cell_type": "code",
   "execution_count": 8,
   "metadata": {},
   "outputs": [
    {
     "name": "stdout",
     "output_type": "stream",
     "text": [
      "Rows in combined df: 1169\n",
      "+---+------------------------+-----+--------+---------+--------------+\n",
      "|id |name                    |alias|latitude|longitude|country       |\n",
      "+---+------------------------+-----+--------+---------+--------------+\n",
      "|0  |Ms. Diane Barnett       |null |51.3327 |-0.0328  |United Kingdom|\n",
      "|1  |Elizabeth McDonald      |null |51.3732 |-0.0396  |United Kingdom|\n",
      "|2  |Jacqueline Martin-Winter|null |51.3536 |-0.223   |United Kingdom|\n",
      "|3  |Roger Farmer            |null |51.2891 |-0.208   |United Kingdom|\n",
      "|4  |Mrs. Georgina Harrison  |null |51.6004 |0.0054   |United Kingdom|\n",
      "+---+------------------------+-----+--------+---------+--------------+\n",
      "only showing top 5 rows\n",
      "\n"
     ]
    }
   ],
   "source": [
    "#alternatively, a chaining union one-by-one\n",
    "dfs_list = list(dfs_dict.values())\n",
    "df_combined = dfs_list[0].union(dfs_list[1]).union(dfs_list[2]).union(dfs_list[3])\n",
    "print(\"Rows in combined df: {}\".format(df_criminals_combined.count()))\n",
    "df_criminals_combined.show(5, False)"
   ]
  },
  {
   "cell_type": "code",
   "execution_count": 10,
   "metadata": {},
   "outputs": [
    {
     "name": "stdout",
     "output_type": "stream",
     "text": [
      "Country: United Kingdom, (lat, lon): 51.5046, -0.124\n",
      "****************************************\n",
      "Country: Germany, (lat, lon): 50.0971, 8.679\n",
      "****************************************\n",
      "Country: Netherlands, (lat, lon): 52.3753, 4.901\n",
      "****************************************\n",
      "Country: France, (lat, lon): 48.8606, 2.3646\n",
      "****************************************\n"
     ]
    }
   ],
   "source": [
    "# calculate mean latitude and longitude to identify the major financial centers (cities)\n",
    "# (copy and paste the lat, lon values into Google Maps)\n",
    "# dataframe.filter(df['salary'] > 100000).agg({\"age\": \"avg\"})\n",
    "for country_ in country_list:\n",
    "    country_df = df_criminals_combined.where(\"country = '{}'\".format(country_))\n",
    "    lat = round(country_df.agg({\"latitude\": \"avg\"}).collect()[0][0], 4)\n",
    "    lon = round(country_df.agg({\"longitude\": \"avg\"}).collect()[0][0], 4)\n",
    "    print(\"Country: {}, (lat, lon): {}, {}\".format(country_, lat, lon))\n",
    "    print(40 * \"*\")"
   ]
  },
  {
   "cell_type": "code",
   "execution_count": 11,
   "metadata": {},
   "outputs": [
    {
     "data": {
      "text/plain": [
       "['United Kingdom', 'Germany', 'Netherlands', 'France']"
      ]
     },
     "execution_count": 11,
     "metadata": {},
     "output_type": "execute_result"
    }
   ],
   "source": [
    "country_list"
   ]
  },
  {
   "cell_type": "code",
   "execution_count": 12,
   "metadata": {},
   "outputs": [
    {
     "data": {
      "text/plain": [
       "{'United Kingdom': 'London',\n",
       " 'Germany': 'Frankfurt',\n",
       " 'Netherlands': 'Amsterdam',\n",
       " 'France': 'Paris'}"
      ]
     },
     "execution_count": 12,
     "metadata": {},
     "output_type": "execute_result"
    }
   ],
   "source": [
    "# add the city name to the df\n",
    "\n",
    "#it can be done using a series of if/else statements, such as 'if country_ == 'France': city = 'Paris', etc. OR\n",
    "# using a dictionary as below:\n",
    "country_city_dict = {\"United Kingdom\": \"London\", \"Germany\": \"Frankfurt\", \"Netherlands\": \"Amsterdam\", \"France\": \"Paris\"}\n",
    "country_city_dict\n"
   ]
  },
  {
   "cell_type": "code",
   "execution_count": 15,
   "metadata": {},
   "outputs": [
    {
     "name": "stdout",
     "output_type": "stream",
     "text": [
      "+---+------------------------+-----+--------+---------+--------------+------+\n",
      "|id |name                    |alias|latitude|longitude|country       |city  |\n",
      "+---+------------------------+-----+--------+---------+--------------+------+\n",
      "|0  |Ms. Diane Barnett       |null |51.3327 |-0.0328  |United Kingdom|London|\n",
      "|1  |Elizabeth McDonald      |null |51.3732 |-0.0396  |United Kingdom|London|\n",
      "|2  |Jacqueline Martin-Winter|null |51.3536 |-0.223   |United Kingdom|London|\n",
      "|3  |Roger Farmer            |null |51.2891 |-0.208   |United Kingdom|London|\n",
      "|4  |Mrs. Georgina Harrison  |null |51.6004 |0.0054   |United Kingdom|London|\n",
      "|5  |Peter Stevens           |null |51.6441 |0.0188   |United Kingdom|London|\n",
      "|6  |Georgina Bell           |null |51.5304 |-0.0927  |United Kingdom|London|\n",
      "|7  |Miss Lesley Sullivan    |null |51.7303 |-0.2607  |United Kingdom|London|\n",
      "|8  |Keith Kelly             |Happy|51.4393 |-0.1421  |United Kingdom|London|\n",
      "|9  |Shane Bailey            |null |51.2735 |-0.3407  |United Kingdom|London|\n",
      "+---+------------------------+-----+--------+---------+--------------+------+\n",
      "only showing top 10 rows\n",
      "\n"
     ]
    }
   ],
   "source": [
    "from pyspark.sql.functions import when\n",
    "df_with_city = df_criminals_combined.withColumn('city', \\\n",
    "                                                 when(F.col('country')=='United Kingdom', 'London').\\\n",
    "                                                 when(F.col('country')=='France', 'Paris').\\\n",
    "                                                 when(F.col('country')=='Germany', 'Frankfurt').\\\n",
    "                                                 when(F.col('country')=='Netherlands', 'Amsterdam').\\\n",
    "                                                 otherwise(None))\n",
    "df_with_city.show(10, False)"
   ]
  },
  {
   "cell_type": "code",
   "execution_count": 16,
   "metadata": {},
   "outputs": [
    {
     "name": "stdout",
     "output_type": "stream",
     "text": [
      "Df shape: 1169\n",
      "+---+--------------------+-----+--------+---------+--------------+---------+\n",
      "| id|                name|alias|latitude|longitude|       country|     city|\n",
      "+---+--------------------+-----+--------+---------+--------------+---------+\n",
      "|247|          Abbie Bond|     | 51.7279|  -0.2436|United Kingdom|   London|\n",
      "| 63|          Abel Greij|     |  52.603|     5.06|   Netherlands|Amsterdam|\n",
      "|150|Adam van de Pol-K...|     | 52.5674|   4.8518|   Netherlands|Amsterdam|\n",
      "| 28|Adelgunde Hensche...|     | 50.2047|   8.7456|       Germany|Frankfurt|\n",
      "|261|         Adrian West|     | 51.4574|   0.0411|United Kingdom|   London|\n",
      "+---+--------------------+-----+--------+---------+--------------+---------+\n",
      "only showing top 5 rows\n",
      "\n"
     ]
    }
   ],
   "source": [
    "# Fillna in alias.\n",
    "df_with_city = df_with_city.fillna({\"alias\": \"\"})\n",
    "print(\"Df shape: {}\".format(df_with_city.count()))\n",
    "df_with_city.orderBy(\"name\").show(5)"
   ]
  },
  {
   "cell_type": "code",
   "execution_count": null,
   "metadata": {},
   "outputs": [],
   "source": []
  },
  {
   "cell_type": "markdown",
   "metadata": {},
   "source": [
    "# Task 2\n",
    "Add crime_type and profit info to criminals. \n",
    "#(merge/join) criminals table with the crime type and profit information."
   ]
  },
  {
   "cell_type": "markdown",
   "metadata": {},
   "source": [
    "- Great, Watson! \n",
    "- Now we need to know what everyone of those supspects did wrong, that is the crime type, and desirably, how much they profited from it: Moriarty is not a small fish. He is in the category with th largest total sales.\n",
    "\n",
    "- You'll need to add the crime type and the profit from the files to the table you already put together. Be mindful of the file types. I also believe that the separator in these file maybe different from the files you used previously.\n",
    "-Moriarty made one of the top 5 sales last year. He is not stupid for nicknames, I am pretty sure he doesn't have an alias.\n"
   ]
  },
  {
   "cell_type": "markdown",
   "metadata": {},
   "source": [
    "# Solution (task 2)"
   ]
  },
  {
   "cell_type": "code",
   "execution_count": 17,
   "metadata": {},
   "outputs": [
    {
     "name": "stdout",
     "output_type": "stream",
     "text": [
      "Columns:  ['name', 'crime_type', 'profit']\n",
      "+-------------------------+-------------+------+\n",
      "|name                     |crime_type   |profit|\n",
      "+-------------------------+-------------+------+\n",
      "|Henriette Thomas du Peron|robbery      |558   |\n",
      "|Marianne Francois        |drug sale    |8100  |\n",
      "|Chantal Laurent          |theft        |52    |\n",
      "|Dorothée Coulon          |theft        |37    |\n",
      "|Astrid Meunier           |pickpocketing|41    |\n",
      "+-------------------------+-------------+------+\n",
      "only showing top 5 rows\n",
      "\n"
     ]
    }
   ],
   "source": [
    "df = spark.read.csv(\"./data/crime_type_profit_France.txt\", header=True, sep=\" \")\n",
    "print(\"Columns: \", list(df.columns))\n",
    "df.show(5, False)"
   ]
  },
  {
   "cell_type": "code",
   "execution_count": 18,
   "metadata": {},
   "outputs": [
    {
     "name": "stdout",
     "output_type": "stream",
     "text": [
      "rows: 306\n",
      "rows: 264\n",
      "rows: 250\n",
      "rows: 349\n",
      "Len dfs_dict: 4\n",
      "['name', 'crime_type', 'profit', 'country']\n",
      "+--------------------+----------+------+--------------+\n",
      "|                name|crime_type|profit|       country|\n",
      "+--------------------+----------+------+--------------+\n",
      "|   Ms. Diane Barnett|     theft|   284|United Kingdom|\n",
      "|  Elizabeth McDonald|     theft|    59|United Kingdom|\n",
      "|Jacqueline Martin...|   forgery|   150|United Kingdom|\n",
      "|        Roger Farmer|     theft|   378|United Kingdom|\n",
      "|Mrs. Georgina Har...|     theft|    55|United Kingdom|\n",
      "|       Peter Stevens|   robbery|   868|United Kingdom|\n",
      "|       Georgina Bell|     theft|   365|United Kingdom|\n",
      "|Miss Lesley Sullivan|   forgery|   320|United Kingdom|\n",
      "|         Keith Kelly|     theft|   399|United Kingdom|\n",
      "|        Shane Bailey|   forgery|   495|United Kingdom|\n",
      "+--------------------+----------+------+--------------+\n",
      "only showing top 10 rows\n",
      "\n"
     ]
    }
   ],
   "source": [
    "# union(concatenate) files for the latest crime dates\n",
    "\n",
    "country_list = [\"United Kingdom\", \"Germany\", \"Netherlands\", \"France\"]\n",
    "dfs_dict = {}\n",
    "for country_ in country_list:\n",
    "    file_name = \"./data/crime_type_profit_{}.txt\".format(country_)\n",
    "    df = spark.read.csv(file_name, header=True, sep=\" \")\n",
    "    print(\"rows: {}\".format(df.count()))\n",
    "    df = df.withColumn('country', F.lit(country_))\n",
    "    dfs_dict[country_] = df\n",
    "print(\"Len dfs_dict: {}\".format(len(dfs_dict)))\n",
    "\n",
    "#combine all dataframes into one\n",
    "df_crime_type_profit = unionAll(list(dfs_dict.values()))\n",
    "print(list(df_crime_type_profit.columns))\n",
    "\n",
    "df_crime_type_profit.show(10)"
   ]
  },
  {
   "cell_type": "code",
   "execution_count": 19,
   "metadata": {},
   "outputs": [
    {
     "data": {
      "text/plain": [
       "1169"
      ]
     },
     "execution_count": 19,
     "metadata": {},
     "output_type": "execute_result"
    }
   ],
   "source": [
    "# drop duplicates \n",
    "df_with_city = df_with_city.drop_duplicates([\"name\"])\n",
    "df_with_city.count()\n"
   ]
  },
  {
   "cell_type": "code",
   "execution_count": 20,
   "metadata": {},
   "outputs": [
    {
     "name": "stdout",
     "output_type": "stream",
     "text": [
      "Df shape: 1169\n",
      "+-----------------------+--------------+---+-----+--------+---------+---------+----------+------+\n",
      "|name                   |country       |id |alias|latitude|longitude|city     |crime_type|profit|\n",
      "+-----------------------+--------------+---+-----+--------+---------+---------+----------+------+\n",
      "|Ing. Karla Lindner MBA.|Germany       |196|Chuey|49.9286 |8.8667   |Frankfurt|robbery   |992   |\n",
      "|Rhys Evans             |United Kingdom|248|     |51.5803 |-0.2249  |London   |drug sale |990   |\n",
      "|Alfred Morvan          |France        |295|     |48.9516 |2.4703   |Paris    |robbery   |988   |\n",
      "|Amina van Ochten       |Netherlands   |67 |     |52.545  |4.9964   |Amsterdam|robbery   |986   |\n",
      "|Valerie Smith          |United Kingdom|161|     |51.5111 |0.0496   |London   |robbery   |976   |\n",
      "|Sara Foster            |United Kingdom|274|     |51.452  |-0.2654  |London   |robbery   |974   |\n",
      "|Dean Ward              |United Kingdom|243|     |51.3494 |-0.204   |London   |theft     |97    |\n",
      "|Ann-Kathrin Scholtz    |Germany       |187|     |50.0756 |8.5568   |Frankfurt|robbery   |968   |\n",
      "|Gundula Ullmann        |Germany       |91 |     |50.3289 |8.5553   |Frankfurt|robbery   |968   |\n",
      "|Gérard du Berthelot    |France        |91 |     |49.0875 |2.5848   |Paris    |robbery   |962   |\n",
      "+-----------------------+--------------+---+-----+--------+---------+---------+----------+------+\n",
      "only showing top 10 rows\n",
      "\n"
     ]
    }
   ],
   "source": [
    "# join main criminal info with crime type and profit\n",
    "df_city_profit = df_with_city.join(df_crime_type_profit, [\"name\",\"country\"], \"left\")\n",
    "print(\"Df shape: {}\".format(df_city_profit.count()))\n",
    "# print(df_city_profit.columns)\n",
    "df_city_profit.orderBy('profit', ascending = False).show(10, False)"
   ]
  },
  {
   "cell_type": "code",
   "execution_count": 21,
   "metadata": {},
   "outputs": [],
   "source": [
    "# profit column is not sorted properly. possibly the data type is the issue"
   ]
  },
  {
   "cell_type": "code",
   "execution_count": 22,
   "metadata": {},
   "outputs": [
    {
     "name": "stdout",
     "output_type": "stream",
     "text": [
      "root\n",
      " |-- name: string (nullable = true)\n",
      " |-- country: string (nullable = false)\n",
      " |-- id: integer (nullable = true)\n",
      " |-- alias: string (nullable = false)\n",
      " |-- latitude: double (nullable = true)\n",
      " |-- longitude: double (nullable = true)\n",
      " |-- city: string (nullable = true)\n",
      " |-- crime_type: string (nullable = true)\n",
      " |-- profit: string (nullable = true)\n",
      "\n"
     ]
    }
   ],
   "source": [
    "df_city_profit.printSchema()"
   ]
  },
  {
   "cell_type": "code",
   "execution_count": null,
   "metadata": {},
   "outputs": [],
   "source": []
  },
  {
   "cell_type": "code",
   "execution_count": 23,
   "metadata": {},
   "outputs": [
    {
     "name": "stdout",
     "output_type": "stream",
     "text": [
      "root\n",
      " |-- name: string (nullable = true)\n",
      " |-- country: string (nullable = false)\n",
      " |-- id: integer (nullable = true)\n",
      " |-- alias: string (nullable = false)\n",
      " |-- latitude: double (nullable = true)\n",
      " |-- longitude: double (nullable = true)\n",
      " |-- city: string (nullable = true)\n",
      " |-- crime_type: string (nullable = true)\n",
      " |-- profit: integer (nullable = true)\n",
      "\n"
     ]
    }
   ],
   "source": [
    "df_city_profit = df_city_profit.withColumn(\"profit\", F.col(\"profit\").cast(\"int\"))\n",
    "df_city_profit.printSchema()"
   ]
  },
  {
   "cell_type": "code",
   "execution_count": 24,
   "metadata": {},
   "outputs": [
    {
     "name": "stdout",
     "output_type": "stream",
     "text": [
      "+------------------------+--------------+---+----------+--------+---------+---------+------------+------+\n",
      "|name                    |country       |id |alias     |latitude|longitude|city     |crime_type  |profit|\n",
      "+------------------------+--------------+---+----------+--------+---------+---------+------------+------+\n",
      "|Odette Renard du Michaud|France        |302|          |48.7832 |2.259    |Paris    |weapons sale|498000|\n",
      "|Anthony Mitchell        |United Kingdom|58 |          |51.421  |0.1152   |London   |weapons sale|495000|\n",
      "|Gabriel Le Schneider    |France        |307|          |48.8161 |2.3073   |Paris    |weapons sale|493000|\n",
      "|Malcolm Cox-Mason       |United Kingdom|62 |Handlebars|51.5569 |0.0905   |London   |weapons sale|491000|\n",
      "|Lily Walter             |Netherlands   |25 |Montana   |52.3557 |4.7229   |Amsterdam|weapons sale|484000|\n",
      "+------------------------+--------------+---+----------+--------+---------+---------+------------+------+\n",
      "only showing top 5 rows\n",
      "\n"
     ]
    }
   ],
   "source": [
    "# let's order by profit again...\n",
    "df_city_profit.orderBy('profit', ascending = False).show(5, False)"
   ]
  },
  {
   "cell_type": "code",
   "execution_count": 25,
   "metadata": {},
   "outputs": [
    {
     "name": "stdout",
     "output_type": "stream",
     "text": [
      "+-------------+------------+\n",
      "|crime_type   |total_profit|\n",
      "+-------------+------------+\n",
      "|weapons sale |14942000    |\n",
      "|drug sale    |2214270     |\n",
      "|robbery      |96582       |\n",
      "|theft        |95702       |\n",
      "|forgery      |37863       |\n",
      "|pickpocketing|6359        |\n",
      "+-------------+------------+\n",
      "\n"
     ]
    }
   ],
   "source": [
    "#investigate crime types and get total sales for each\n",
    "df_by_profit = df_city_profit.groupBy([\"crime_type\"]).\\\n",
    "                agg(F.sum(\"profit\").alias(\"total_profit\")).\\\n",
    "                orderBy(\"total_profit\", ascending=False)\n",
    "\n",
    "df_by_profit.show(10, False)"
   ]
  },
  {
   "cell_type": "code",
   "execution_count": 26,
   "metadata": {},
   "outputs": [
    {
     "data": {
      "text/plain": [
       "'weapons sale'"
      ]
     },
     "execution_count": 26,
     "metadata": {},
     "output_type": "execute_result"
    }
   ],
   "source": [
    "crime_type_big_sales = df_by_profit.select(\"crime_type\").collect()[0][0]\n",
    "crime_type_big_sales"
   ]
  },
  {
   "cell_type": "code",
   "execution_count": 27,
   "metadata": {},
   "outputs": [
    {
     "name": "stdout",
     "output_type": "stream",
     "text": [
      "crime_type = 'weapons sale'\n"
     ]
    }
   ],
   "source": [
    "print(\"crime_type = '{}'\".format(crime_type_big_sales))"
   ]
  },
  {
   "cell_type": "code",
   "execution_count": 28,
   "metadata": {},
   "outputs": [
    {
     "data": {
      "text/plain": [
       "['name',\n",
       " 'country',\n",
       " 'id',\n",
       " 'alias',\n",
       " 'latitude',\n",
       " 'longitude',\n",
       " 'city',\n",
       " 'crime_type',\n",
       " 'profit']"
      ]
     },
     "execution_count": 28,
     "metadata": {},
     "output_type": "execute_result"
    }
   ],
   "source": [
    "df_city_profit.columns"
   ]
  },
  {
   "cell_type": "code",
   "execution_count": 29,
   "metadata": {},
   "outputs": [
    {
     "name": "stdout",
     "output_type": "stream",
     "text": [
      "+--------------+------------+\n",
      "|country       |total_profit|\n",
      "+--------------+------------+\n",
      "|France        |6312000     |\n",
      "|United Kingdom|3914000     |\n",
      "|Germany       |2365000     |\n",
      "|Netherlands   |2351000     |\n",
      "+--------------+------------+\n",
      "\n"
     ]
    }
   ],
   "source": [
    "countries_crime_type_profit_df = df_city_profit.where(\"crime_type == '{}'\".format(crime_type_big_sales))\\\n",
    "                    .groupBy([\"country\"])\\\n",
    "                    .agg(F.sum(\"profit\").alias('total_profit'))\\\n",
    "                    .orderBy(\"total_profit\", ascending=False)\n",
    "    \n",
    "countries_crime_type_profit_df.show(10, False)"
   ]
  },
  {
   "cell_type": "code",
   "execution_count": 30,
   "metadata": {},
   "outputs": [
    {
     "data": {
      "text/plain": [
       "'France'"
      ]
     },
     "execution_count": 30,
     "metadata": {},
     "output_type": "execute_result"
    }
   ],
   "source": [
    "top_country = countries_crime_type_profit_df.select(\"country\").collect()[0][0]\n",
    "top_country"
   ]
  },
  {
   "cell_type": "code",
   "execution_count": 31,
   "metadata": {},
   "outputs": [
    {
     "name": "stdout",
     "output_type": "stream",
     "text": [
      "+--------------------+-----------+---+-----+--------+---------+---------+----------+------+\n",
      "|                name|    country| id|alias|latitude|longitude|     city|crime_type|profit|\n",
      "+--------------------+-----------+---+-----+--------+---------+---------+----------+------+\n",
      "|    Amina van Ochten|Netherlands| 67|     |  52.545|   4.9964|Amsterdam|   robbery|   986|\n",
      "|Dr. Raissa Benthi...|    Germany|218|     | 50.3391|   8.6749|Frankfurt|     theft|   212|\n",
      "|     Eugène de Costa|     France|189|     | 48.9425|   2.5928|    Paris|     theft|   232|\n",
      "+--------------------+-----------+---+-----+--------+---------+---------+----------+------+\n",
      "only showing top 3 rows\n",
      "\n"
     ]
    }
   ],
   "source": [
    "df_city_profit.show(3)"
   ]
  },
  {
   "cell_type": "code",
   "execution_count": 32,
   "metadata": {},
   "outputs": [
    {
     "name": "stdout",
     "output_type": "stream",
     "text": [
      "+--------------------+-------+---+-----+--------+---------+-----+------------+------+\n",
      "|                name|country| id|alias|latitude|longitude| city|  crime_type|profit|\n",
      "+--------------------+-------+---+-----+--------+---------+-----+------------+------+\n",
      "|Odette Renard du ...| France|302|     | 48.7832|    2.259|Paris|weapons sale|498000|\n",
      "|Gabriel Le Schneider| France|307|     | 48.8161|   2.3073|Paris|weapons sale|493000|\n",
      "|Constance du Laurent| France|171|     | 48.8806|   2.2083|Paris|weapons sale|453000|\n",
      "|   Valentine Meunier| France|200|     |  48.822|   2.5017|Paris|weapons sale|435000|\n",
      "|René Tessier du L...| France| 19|     | 48.6504|   2.3543|Paris|weapons sale|423000|\n",
      "+--------------------+-------+---+-----+--------+---------+-----+------------+------+\n",
      "only showing top 5 rows\n",
      "\n"
     ]
    }
   ],
   "source": [
    "# Show top 5 salesmen in the selected country\n",
    "df_large_sales_alias_null = df_city_profit.where(\"country = '{}' and alias = '' and crime_type = '{}'\".format(top_country, crime_type_big_sales))\\\n",
    "                                            .orderBy(\"profit\", ascending = False)\n",
    "\n",
    "df_large_sales_alias_null.show(5)"
   ]
  },
  {
   "cell_type": "markdown",
   "metadata": {},
   "source": [
    "# PART 3\n",
    "\n",
    "Add date (last deal date) Moriarty does not deal on Sundays"
   ]
  },
  {
   "cell_type": "code",
   "execution_count": 33,
   "metadata": {},
   "outputs": [
    {
     "name": "stdout",
     "output_type": "stream",
     "text": [
      "id_dates shape: 1169\n",
      "+---+----------+-------+\n",
      "| id|      date|country|\n",
      "+---+----------+-------+\n",
      "|  0|2020-06-15| France|\n",
      "|  1|2020-01-06| France|\n",
      "|  2|2020-08-03| France|\n",
      "|  3|2020-06-19| France|\n",
      "+---+----------+-------+\n",
      "only showing top 4 rows\n",
      "\n"
     ]
    }
   ],
   "source": [
    "id_dates = spark.read.csv(\"./data/id_dates.csv\", header=True, inferSchema=True)\n",
    "print(\"id_dates shape: {}\".format(id_dates.count()))\n",
    "id_dates.show(4)"
   ]
  },
  {
   "cell_type": "code",
   "execution_count": 34,
   "metadata": {},
   "outputs": [
    {
     "name": "stdout",
     "output_type": "stream",
     "text": [
      "1169\n",
      "+---+-----------+--------------------+-----+--------+---------+---------+----------+------+----------+\n",
      "| id|    country|                name|alias|latitude|longitude|     city|crime_type|profit|      date|\n",
      "+---+-----------+--------------------+-----+--------+---------+---------+----------+------+----------+\n",
      "| 67|Netherlands|    Amina van Ochten|     |  52.545|   4.9964|Amsterdam|   robbery|   986|2020-08-13|\n",
      "|218|    Germany|Dr. Raissa Benthi...|     | 50.3391|   8.6749|Frankfurt|     theft|   212|2020-10-20|\n",
      "|189|     France|     Eugène de Costa|     | 48.9425|   2.5928|    Paris|     theft|   232|2020-01-09|\n",
      "+---+-----------+--------------------+-----+--------+---------+---------+----------+------+----------+\n",
      "only showing top 3 rows\n",
      "\n"
     ]
    }
   ],
   "source": [
    "df_selected_with_dates = df_city_profit.join(id_dates, on=[\"id\", \"country\"], how=\"left\")\n",
    "print(df_selected_with_dates.count())\n",
    "df_selected_with_dates.show(3)"
   ]
  },
  {
   "cell_type": "code",
   "execution_count": 35,
   "metadata": {},
   "outputs": [
    {
     "name": "stdout",
     "output_type": "stream",
     "text": [
      "root\n",
      " |-- id: integer (nullable = true)\n",
      " |-- country: string (nullable = false)\n",
      " |-- name: string (nullable = true)\n",
      " |-- alias: string (nullable = false)\n",
      " |-- latitude: double (nullable = true)\n",
      " |-- longitude: double (nullable = true)\n",
      " |-- city: string (nullable = true)\n",
      " |-- crime_type: string (nullable = true)\n",
      " |-- profit: integer (nullable = true)\n",
      " |-- date: string (nullable = true)\n",
      "\n"
     ]
    }
   ],
   "source": [
    "df_selected_with_dates.printSchema()"
   ]
  },
  {
   "cell_type": "code",
   "execution_count": 44,
   "metadata": {},
   "outputs": [
    {
     "name": "stdout",
     "output_type": "stream",
     "text": [
      "+---+--------------+--------------------+-----+--------+---------+---------+-------------+------+----------+---------+\n",
      "| id|       country|                name|alias|latitude|longitude|     city|   crime_type|profit|      date| weekdate|\n",
      "+---+--------------+--------------------+-----+--------+---------+---------+-------------+------+----------+---------+\n",
      "| 67|   Netherlands|    Amina van Ochten|     |  52.545|   4.9964|Amsterdam|      robbery|   986|2020-08-13| Thursday|\n",
      "|218|       Germany|Dr. Raissa Benthi...|     | 50.3391|   8.6749|Frankfurt|        theft|   212|2020-10-20|  Tuesday|\n",
      "|189|        France|     Eugène de Costa|     | 48.9425|   2.5928|    Paris|        theft|   232|2020-01-09| Thursday|\n",
      "| 34|   Netherlands|Yasmine Zaal-Lang...|     | 52.4738|   4.6771|Amsterdam|        theft|   248|2020-04-20|   Monday|\n",
      "|161|       Germany|    Alfons Dörr MBA.|     | 50.0601|   8.7972|Frankfurt| weapons sale|165000|2020-05-06|Wednesday|\n",
      "| 40|United Kingdom|        Carolyn Reid|     | 51.4239|  -0.0422|   London| weapons sale|350000|2020-10-21|Wednesday|\n",
      "| 20|   Netherlands| Cornelis Giselmeyer|     |  52.381|   5.0115|Amsterdam|        theft|   144|2020-09-29|  Tuesday|\n",
      "|188|       Germany|Frau Beatrix Boln...|     | 50.2545|   8.5764|Frankfurt|pickpocketing|     7|2020-02-04|  Tuesday|\n",
      "|273|        France| Claudine-Alex Hamel|     | 48.9475|   2.5436|    Paris|      robbery|   304|2020-09-08|  Tuesday|\n",
      "| 23|       Germany|Dipl.-Ing. Dennis...|     | 50.0266|   8.6771|Frankfurt|        theft|    44|2019-12-24|  Tuesday|\n",
      "+---+--------------+--------------------+-----+--------+---------+---------+-------------+------+----------+---------+\n",
      "only showing top 10 rows\n",
      "\n"
     ]
    }
   ],
   "source": [
    "from pyspark.sql.functions import udf\n",
    "from pyspark.sql.types import DateType, StringType\n",
    "\n",
    "\n",
    "def weekday(date):\n",
    "    \"\"\" Generate day of the week based on date (as string or as datetime object)\"\"\"\n",
    "    \n",
    "    if isinstance(date, str):\n",
    "        from datetime import datetime\n",
    "        \n",
    "        date = datetime.strptime(date, \"%Y-%m-%d\")  # change the format if necessary\n",
    "        \n",
    "    return date.strftime(\"%A\")\n",
    "\n",
    "\n",
    "weekday_udf = udf(weekday, StringType())\n",
    "\n",
    "# conversion to DateType is not necessary as it is handled inside the function\n",
    "# here it is offered as an example of re-casting\n",
    "df_selected_with_dates = df_selected_with_dates.withColumn(\"date\", F.col(\"date\").cast(DateType()))\n",
    "\n",
    "df_selected_with_dates = df_selected_with_dates.withColumn(\"weekdate\", weekday_udf(\"date\").alias(\"weekday\"))\n",
    "df_selected_with_dates.show(10)"
   ]
  },
  {
   "cell_type": "code",
   "execution_count": 43,
   "metadata": {},
   "outputs": [
    {
     "data": {
      "text/plain": [
       "'weapons sale'"
      ]
     },
     "execution_count": 43,
     "metadata": {},
     "output_type": "execute_result"
    }
   ],
   "source": [
    "crime_type_big_sales"
   ]
  },
  {
   "cell_type": "code",
   "execution_count": 45,
   "metadata": {},
   "outputs": [
    {
     "ename": "AnalysisException",
     "evalue": "cannot resolve '`weekday`' given input columns: [alias, city, country, crime_type, date, id, latitude, longitude, name, profit, weekdate]; line 4 pos 48;\n'Filter (((country#118 = France) AND (alias#722 = )) AND ((crime_type#855 = weapons sale) AND NOT ('weekday = Sunday)))\n+- Project [id#88, country#118, name#94, alias#722, latitude#106, longitude#112, city#646, crime_type#855, profit#1205, date#2046, weekday(date#2046) AS weekdate#2060]\n   +- Project [id#88, country#118, name#94, alias#722, latitude#106, longitude#112, city#646, crime_type#855, profit#1205, cast(date#1904 as date) AS date#2046, weekdate#1917]\n      +- Project [id#88, country#118, name#94, alias#722, latitude#106, longitude#112, city#646, crime_type#855, profit#1205, date#1904, weekday(date#1904) AS weekdate#1917]\n         +- Project [id#88, country#118, name#94, alias#722, latitude#106, longitude#112, city#646, crime_type#855, profit#1205, cast(date#1707 as date) AS date#1904]\n            +- Project [id#88, country#118, name#94, alias#722, latitude#106, longitude#112, city#646, crime_type#855, profit#1205, date#1707]\n               +- Join LeftOuter, ((id#88 = id#1706) AND (country#118 = country#1708))\n                  :- Project [name#94, country#118, id#88, alias#722, latitude#106, longitude#112, city#646, crime_type#855, cast(profit#856 as int) AS profit#1205]\n                  :  +- Project [name#94, country#118, id#88, alias#722, latitude#106, longitude#112, city#646, crime_type#855, profit#856]\n                  :     +- Join LeftOuter, ((name#94 = name#854) AND (country#118 = country#868))\n                  :        :- Deduplicate [name#94]\n                  :        :  +- Project [id#88, name#94, coalesce(alias#100, cast( as string)) AS alias#722, latitude#106, longitude#112, country#118, city#646]\n                  :        :     +- Project [id#88, name#94, alias#100, latitude#106, longitude#112, country#118, CASE WHEN (country#118 = United Kingdom) THEN London WHEN (country#118 = France) THEN Paris WHEN (country#118 = Germany) THEN Frankfurt WHEN (country#118 = Netherlands) THEN Amsterdam ELSE cast(null as string) END AS city#646]\n                  :        :        +- Union\n                  :        :           :- Project [id#88, name#94, alias#100, latitude#106, longitude#112, United Kingdom AS country#118]\n                  :        :           :  +- Project [id#88, name#94, alias#100, latitude#106, longitude#72 AS longitude#112]\n                  :        :           :     +- Project [id#88, name#94, alias#100, latitude#71 AS latitude#106, longitude#72]\n                  :        :           :        +- Project [id#88, name#94, alias#70 AS alias#100, latitude#71, longitude#72]\n                  :        :           :           +- Project [id#88, name#69 AS name#94, alias#70, latitude#71, longitude#72]\n                  :        :           :              +- Project [id#68 AS id#88, name#69, alias#70, latitude#71, longitude#72]\n                  :        :           :                 +- Relation[id#68,name#69,alias#70,latitude#71,longitude#72] csv\n                  :        :           :- Project [id#161, name#167, alias#173, latitude#179, longitude#185, Germany AS country#191]\n                  :        :           :  +- Project [id#161, name#167, alias#173, latitude#179, länge#145 AS longitude#185]\n                  :        :           :     +- Project [id#161, name#167, alias#173, breitengrad#144 AS latitude#179, länge#145]\n                  :        :           :        +- Project [id#161, name#167, aliasnamen#143 AS alias#173, breitengrad#144, länge#145]\n                  :        :           :           +- Project [id#161, benennen#142 AS name#167, aliasnamen#143, breitengrad#144, länge#145]\n                  :        :           :              +- Project [id#141 AS id#161, benennen#142, aliasnamen#143, breitengrad#144, länge#145]\n                  :        :           :                 +- Relation[id#141,benennen#142,aliasnamen#143,breitengrad#144,länge#145] csv\n                  :        :           :- Project [id#234, name#240, alias#246, latitude#252, longitude#258, Netherlands AS country#264]\n                  :        :           :  +- Project [id#234, name#240, alias#246, latitude#252, länge#218 AS longitude#258]\n                  :        :           :     +- Project [id#234, name#240, alias#246, breitengrad#217 AS latitude#252, länge#218]\n                  :        :           :        +- Project [id#234, name#240, aliasnamen#216 AS alias#246, breitengrad#217, länge#218]\n                  :        :           :           +- Project [id#234, benennen#215 AS name#240, aliasnamen#216, breitengrad#217, länge#218]\n                  :        :           :              +- Project [id#214 AS id#234, benennen#215, aliasnamen#216, breitengrad#217, länge#218]\n                  :        :           :                 +- Relation[id#214,benennen#215,aliasnamen#216,breitengrad#217,länge#218] csv\n                  :        :           +- Project [id#307, name#313, alias#319, latitude#325, longitude#331, France AS country#337]\n                  :        :              +- Project [id#307, name#313, alias#319, latitude#325, longitude#291 AS longitude#331]\n                  :        :                 +- Project [id#307, name#313, alias#319, latitude#290 AS latitude#325, longitude#291]\n                  :        :                    +- Project [id#307, name#313, pseudonyme#289 AS alias#319, latitude#290, longitude#291]\n                  :        :                       +- Project [id#307, nom#288 AS name#313, pseudonyme#289, latitude#290, longitude#291]\n                  :        :                          +- Project [id#287 AS id#307, nom#288, pseudonyme#289, latitude#290, longitude#291]\n                  :        :                             +- Relation[id#287,nom#288,pseudonyme#289,latitude#290,longitude#291] csv\n                  :        +- Union\n                  :           :- Project [name#854, crime_type#855, profit#856, United Kingdom AS country#868]\n                  :           :  +- Relation[name#854,crime_type#855,profit#856] csv\n                  :           :- Project [name#889, crime_type#890, profit#891, Germany AS country#903]\n                  :           :  +- Relation[name#889,crime_type#890,profit#891] csv\n                  :           :- Project [name#924, crime_type#925, profit#926, Netherlands AS country#938]\n                  :           :  +- Relation[name#924,crime_type#925,profit#926] csv\n                  :           +- Project [name#959, crime_type#960, profit#961, France AS country#973]\n                  :              +- Relation[name#959,crime_type#960,profit#961] csv\n                  +- Relation[id#1706,date#1707,country#1708] csv\n",
     "output_type": "error",
     "traceback": [
      "\u001b[0;31m---------------------------------------------------------------------------\u001b[0m",
      "\u001b[0;31mAnalysisException\u001b[0m                         Traceback (most recent call last)",
      "\u001b[0;32m<ipython-input-45-9c97452a7c3e>\u001b[0m in \u001b[0;36m<module>\u001b[0;34m\u001b[0m\n\u001b[1;32m      4\u001b[0m                                             \u001b[0;32mand\u001b[0m \u001b[0mcrime_type\u001b[0m \u001b[0;34m=\u001b[0m \u001b[0;34m'{}'\u001b[0m\u001b[0;34m\u001b[0m\u001b[0;34m\u001b[0m\u001b[0m\n\u001b[1;32m      5\u001b[0m                                             \u001b[0;32mand\u001b[0m \u001b[0mweekday\u001b[0m \u001b[0;34m!=\u001b[0m \u001b[0;34m'Sunday'\u001b[0m\u001b[0;34m\u001b[0m\u001b[0;34m\u001b[0m\u001b[0m\n\u001b[0;32m----> 6\u001b[0;31m                                        \"\"\".format(top_country, crime_type_big_sales))\n\u001b[0m\u001b[1;32m      7\u001b[0m \u001b[0;34m\u001b[0m\u001b[0m\n\u001b[1;32m      8\u001b[0m \u001b[0mdf_final\u001b[0m\u001b[0;34m.\u001b[0m\u001b[0mshow\u001b[0m\u001b[0;34m(\u001b[0m\u001b[0;36m5\u001b[0m\u001b[0;34m)\u001b[0m\u001b[0;34m\u001b[0m\u001b[0;34m\u001b[0m\u001b[0m\n",
      "\u001b[0;32m~/Documents/Python/holmes_moriarty_sql/env/lib/python3.6/site-packages/pyspark/sql/dataframe.py\u001b[0m in \u001b[0;36mfilter\u001b[0;34m(self, condition)\u001b[0m\n\u001b[1;32m   1457\u001b[0m         \"\"\"\n\u001b[1;32m   1458\u001b[0m         \u001b[0;32mif\u001b[0m \u001b[0misinstance\u001b[0m\u001b[0;34m(\u001b[0m\u001b[0mcondition\u001b[0m\u001b[0;34m,\u001b[0m \u001b[0mbasestring\u001b[0m\u001b[0;34m)\u001b[0m\u001b[0;34m:\u001b[0m\u001b[0;34m\u001b[0m\u001b[0;34m\u001b[0m\u001b[0m\n\u001b[0;32m-> 1459\u001b[0;31m             \u001b[0mjdf\u001b[0m \u001b[0;34m=\u001b[0m \u001b[0mself\u001b[0m\u001b[0;34m.\u001b[0m\u001b[0m_jdf\u001b[0m\u001b[0;34m.\u001b[0m\u001b[0mfilter\u001b[0m\u001b[0;34m(\u001b[0m\u001b[0mcondition\u001b[0m\u001b[0;34m)\u001b[0m\u001b[0;34m\u001b[0m\u001b[0;34m\u001b[0m\u001b[0m\n\u001b[0m\u001b[1;32m   1460\u001b[0m         \u001b[0;32melif\u001b[0m \u001b[0misinstance\u001b[0m\u001b[0;34m(\u001b[0m\u001b[0mcondition\u001b[0m\u001b[0;34m,\u001b[0m \u001b[0mColumn\u001b[0m\u001b[0;34m)\u001b[0m\u001b[0;34m:\u001b[0m\u001b[0;34m\u001b[0m\u001b[0;34m\u001b[0m\u001b[0m\n\u001b[1;32m   1461\u001b[0m             \u001b[0mjdf\u001b[0m \u001b[0;34m=\u001b[0m \u001b[0mself\u001b[0m\u001b[0;34m.\u001b[0m\u001b[0m_jdf\u001b[0m\u001b[0;34m.\u001b[0m\u001b[0mfilter\u001b[0m\u001b[0;34m(\u001b[0m\u001b[0mcondition\u001b[0m\u001b[0;34m.\u001b[0m\u001b[0m_jc\u001b[0m\u001b[0;34m)\u001b[0m\u001b[0;34m\u001b[0m\u001b[0;34m\u001b[0m\u001b[0m\n",
      "\u001b[0;32m~/Documents/Python/holmes_moriarty_sql/env/lib/python3.6/site-packages/py4j/java_gateway.py\u001b[0m in \u001b[0;36m__call__\u001b[0;34m(self, *args)\u001b[0m\n\u001b[1;32m   1303\u001b[0m         \u001b[0manswer\u001b[0m \u001b[0;34m=\u001b[0m \u001b[0mself\u001b[0m\u001b[0;34m.\u001b[0m\u001b[0mgateway_client\u001b[0m\u001b[0;34m.\u001b[0m\u001b[0msend_command\u001b[0m\u001b[0;34m(\u001b[0m\u001b[0mcommand\u001b[0m\u001b[0;34m)\u001b[0m\u001b[0;34m\u001b[0m\u001b[0;34m\u001b[0m\u001b[0m\n\u001b[1;32m   1304\u001b[0m         return_value = get_return_value(\n\u001b[0;32m-> 1305\u001b[0;31m             answer, self.gateway_client, self.target_id, self.name)\n\u001b[0m\u001b[1;32m   1306\u001b[0m \u001b[0;34m\u001b[0m\u001b[0m\n\u001b[1;32m   1307\u001b[0m         \u001b[0;32mfor\u001b[0m \u001b[0mtemp_arg\u001b[0m \u001b[0;32min\u001b[0m \u001b[0mtemp_args\u001b[0m\u001b[0;34m:\u001b[0m\u001b[0;34m\u001b[0m\u001b[0;34m\u001b[0m\u001b[0m\n",
      "\u001b[0;32m~/Documents/Python/holmes_moriarty_sql/env/lib/python3.6/site-packages/pyspark/sql/utils.py\u001b[0m in \u001b[0;36mdeco\u001b[0;34m(*a, **kw)\u001b[0m\n\u001b[1;32m    132\u001b[0m                 \u001b[0;31m# Hide where the exception came from that shows a non-Pythonic\u001b[0m\u001b[0;34m\u001b[0m\u001b[0;34m\u001b[0m\u001b[0;34m\u001b[0m\u001b[0m\n\u001b[1;32m    133\u001b[0m                 \u001b[0;31m# JVM exception message.\u001b[0m\u001b[0;34m\u001b[0m\u001b[0;34m\u001b[0m\u001b[0;34m\u001b[0m\u001b[0m\n\u001b[0;32m--> 134\u001b[0;31m                 \u001b[0mraise_from\u001b[0m\u001b[0;34m(\u001b[0m\u001b[0mconverted\u001b[0m\u001b[0;34m)\u001b[0m\u001b[0;34m\u001b[0m\u001b[0;34m\u001b[0m\u001b[0m\n\u001b[0m\u001b[1;32m    135\u001b[0m             \u001b[0;32melse\u001b[0m\u001b[0;34m:\u001b[0m\u001b[0;34m\u001b[0m\u001b[0;34m\u001b[0m\u001b[0m\n\u001b[1;32m    136\u001b[0m                 \u001b[0;32mraise\u001b[0m\u001b[0;34m\u001b[0m\u001b[0;34m\u001b[0m\u001b[0m\n",
      "\u001b[0;32m~/Documents/Python/holmes_moriarty_sql/env/lib/python3.6/site-packages/pyspark/sql/utils.py\u001b[0m in \u001b[0;36mraise_from\u001b[0;34m(e)\u001b[0m\n",
      "\u001b[0;31mAnalysisException\u001b[0m: cannot resolve '`weekday`' given input columns: [alias, city, country, crime_type, date, id, latitude, longitude, name, profit, weekdate]; line 4 pos 48;\n'Filter (((country#118 = France) AND (alias#722 = )) AND ((crime_type#855 = weapons sale) AND NOT ('weekday = Sunday)))\n+- Project [id#88, country#118, name#94, alias#722, latitude#106, longitude#112, city#646, crime_type#855, profit#1205, date#2046, weekday(date#2046) AS weekdate#2060]\n   +- Project [id#88, country#118, name#94, alias#722, latitude#106, longitude#112, city#646, crime_type#855, profit#1205, cast(date#1904 as date) AS date#2046, weekdate#1917]\n      +- Project [id#88, country#118, name#94, alias#722, latitude#106, longitude#112, city#646, crime_type#855, profit#1205, date#1904, weekday(date#1904) AS weekdate#1917]\n         +- Project [id#88, country#118, name#94, alias#722, latitude#106, longitude#112, city#646, crime_type#855, profit#1205, cast(date#1707 as date) AS date#1904]\n            +- Project [id#88, country#118, name#94, alias#722, latitude#106, longitude#112, city#646, crime_type#855, profit#1205, date#1707]\n               +- Join LeftOuter, ((id#88 = id#1706) AND (country#118 = country#1708))\n                  :- Project [name#94, country#118, id#88, alias#722, latitude#106, longitude#112, city#646, crime_type#855, cast(profit#856 as int) AS profit#1205]\n                  :  +- Project [name#94, country#118, id#88, alias#722, latitude#106, longitude#112, city#646, crime_type#855, profit#856]\n                  :     +- Join LeftOuter, ((name#94 = name#854) AND (country#118 = country#868))\n                  :        :- Deduplicate [name#94]\n                  :        :  +- Project [id#88, name#94, coalesce(alias#100, cast( as string)) AS alias#722, latitude#106, longitude#112, country#118, city#646]\n                  :        :     +- Project [id#88, name#94, alias#100, latitude#106, longitude#112, country#118, CASE WHEN (country#118 = United Kingdom) THEN London WHEN (country#118 = France) THEN Paris WHEN (country#118 = Germany) THEN Frankfurt WHEN (country#118 = Netherlands) THEN Amsterdam ELSE cast(null as string) END AS city#646]\n                  :        :        +- Union\n                  :        :           :- Project [id#88, name#94, alias#100, latitude#106, longitude#112, United Kingdom AS country#118]\n                  :        :           :  +- Project [id#88, name#94, alias#100, latitude#106, longitude#72 AS longitude#112]\n                  :        :           :     +- Project [id#88, name#94, alias#100, latitude#71 AS latitude#106, longitude#72]\n                  :        :           :        +- Project [id#88, name#94, alias#70 AS alias#100, latitude#71, longitude#72]\n                  :        :           :           +- Project [id#88, name#69 AS name#94, alias#70, latitude#71, longitude#72]\n                  :        :           :              +- Project [id#68 AS id#88, name#69, alias#70, latitude#71, longitude#72]\n                  :        :           :                 +- Relation[id#68,name#69,alias#70,latitude#71,longitude#72] csv\n                  :        :           :- Project [id#161, name#167, alias#173, latitude#179, longitude#185, Germany AS country#191]\n                  :        :           :  +- Project [id#161, name#167, alias#173, latitude#179, länge#145 AS longitude#185]\n                  :        :           :     +- Project [id#161, name#167, alias#173, breitengrad#144 AS latitude#179, länge#145]\n                  :        :           :        +- Project [id#161, name#167, aliasnamen#143 AS alias#173, breitengrad#144, länge#145]\n                  :        :           :           +- Project [id#161, benennen#142 AS name#167, aliasnamen#143, breitengrad#144, länge#145]\n                  :        :           :              +- Project [id#141 AS id#161, benennen#142, aliasnamen#143, breitengrad#144, länge#145]\n                  :        :           :                 +- Relation[id#141,benennen#142,aliasnamen#143,breitengrad#144,länge#145] csv\n                  :        :           :- Project [id#234, name#240, alias#246, latitude#252, longitude#258, Netherlands AS country#264]\n                  :        :           :  +- Project [id#234, name#240, alias#246, latitude#252, länge#218 AS longitude#258]\n                  :        :           :     +- Project [id#234, name#240, alias#246, breitengrad#217 AS latitude#252, länge#218]\n                  :        :           :        +- Project [id#234, name#240, aliasnamen#216 AS alias#246, breitengrad#217, länge#218]\n                  :        :           :           +- Project [id#234, benennen#215 AS name#240, aliasnamen#216, breitengrad#217, länge#218]\n                  :        :           :              +- Project [id#214 AS id#234, benennen#215, aliasnamen#216, breitengrad#217, länge#218]\n                  :        :           :                 +- Relation[id#214,benennen#215,aliasnamen#216,breitengrad#217,länge#218] csv\n                  :        :           +- Project [id#307, name#313, alias#319, latitude#325, longitude#331, France AS country#337]\n                  :        :              +- Project [id#307, name#313, alias#319, latitude#325, longitude#291 AS longitude#331]\n                  :        :                 +- Project [id#307, name#313, alias#319, latitude#290 AS latitude#325, longitude#291]\n                  :        :                    +- Project [id#307, name#313, pseudonyme#289 AS alias#319, latitude#290, longitude#291]\n                  :        :                       +- Project [id#307, nom#288 AS name#313, pseudonyme#289, latitude#290, longitude#291]\n                  :        :                          +- Project [id#287 AS id#307, nom#288, pseudonyme#289, latitude#290, longitude#291]\n                  :        :                             +- Relation[id#287,nom#288,pseudonyme#289,latitude#290,longitude#291] csv\n                  :        +- Union\n                  :           :- Project [name#854, crime_type#855, profit#856, United Kingdom AS country#868]\n                  :           :  +- Relation[name#854,crime_type#855,profit#856] csv\n                  :           :- Project [name#889, crime_type#890, profit#891, Germany AS country#903]\n                  :           :  +- Relation[name#889,crime_type#890,profit#891] csv\n                  :           :- Project [name#924, crime_type#925, profit#926, Netherlands AS country#938]\n                  :           :  +- Relation[name#924,crime_type#925,profit#926] csv\n                  :           +- Project [name#959, crime_type#960, profit#961, France AS country#973]\n                  :              +- Relation[name#959,crime_type#960,profit#961] csv\n                  +- Relation[id#1706,date#1707,country#1708] csv\n"
     ]
    }
   ],
   "source": [
    "# Show top 5 salesmen in the selected country\n",
    "df_final = df_selected_with_dates.where(\"\"\"country = '{}' \n",
    "                                            and alias = '' \n",
    "                                            and crime_type = '{}'\n",
    "                                            and weekday != 'Sunday'\n",
    "                                       \"\"\".format(top_country, crime_type_big_sales))\n",
    "\n",
    "df_final.show(5)"
   ]
  },
  {
   "cell_type": "code",
   "execution_count": null,
   "metadata": {},
   "outputs": [],
   "source": [
    "moriarty_name =  df_final.select(\"name\").collect()[0][0]\n",
    "print(\"The name Moriarty is hiding behind: {}\".format(moriarty_name))"
   ]
  },
  {
   "cell_type": "code",
   "execution_count": null,
   "metadata": {},
   "outputs": [],
   "source": []
  }
 ],
 "metadata": {
  "kernelspec": {
   "display_name": "Python 3",
   "language": "python",
   "name": "python3"
  },
  "language_info": {
   "codemirror_mode": {
    "name": "ipython",
    "version": 3
   },
   "file_extension": ".py",
   "mimetype": "text/x-python",
   "name": "python",
   "nbconvert_exporter": "python",
   "pygments_lexer": "ipython3",
   "version": "3.6.8"
  }
 },
 "nbformat": 4,
 "nbformat_minor": 2
}
